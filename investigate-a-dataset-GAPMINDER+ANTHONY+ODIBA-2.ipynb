{
 "cells": [
  {
   "cell_type": "markdown",
   "metadata": {},
   "source": [
    "# Project: Investigate certain indicators in Gapminder Dataset\n",
    "***\n",
    "\n",
    "## By Odiba Anthony\n",
    "\n",
    "## Table of Contents\n",
    "<ul>\n",
    "<li><a href=\"#intro\">Introduction</a></li>\n",
    "<li><a href=\"#wrangling\">Data Wrangling</a></li>\n",
    "<li><a href=\"#eda\">Exploratory Data Analysis</a></li>\n",
    "<li><a href=\"#conclusions\">Conclusions</a></li>\n",
    "</ul>"
   ]
  },
  {
   "cell_type": "markdown",
   "metadata": {},
   "source": [
    "<a id='intro'></a>\n",
    "## 1. Introduction\n",
    "For my investigation, I selected the [Gapminder world dataset](http://www.gapminder.org/data/) which currently has a collection of about 519 different indicators. Each indicator contains years of information on different aspects that affect different countries. \n",
    "\n",
    "After going over the dataset, I thought it would be interesting to see how other regions in the world have being growing in terms of Income(GDP/capita PPS infaltion adjusted) as compaired to countries in africa.\n",
    "Also, what trends can be observed betweeen Income and other Indicators like:\n",
    "\n",
    "<ol>\n",
    "<li>Income and $CO_2$</li>\n",
    "<li>Income and Child Mortality</li>\n",
    "<li>Income and Life Expectancy</li>\n",
    "<li>Income and Self-Employed</li>\n",
    "</ol> "
   ]
  },
  {
   "cell_type": "markdown",
   "metadata": {},
   "source": [
    "## 2. Importing relevant packages"
   ]
  },
  {
   "cell_type": "code",
   "execution_count": 138,
   "metadata": {
    "collapsed": true
   },
   "outputs": [],
   "source": [
    "#import os\n",
    "##os.getcwd()\n",
    "##os.chdir('/Users/****/Downloads')\n",
    "#os.chdir('/Users/filepath/Investigate_a_DataSet')\n",
    "#!pwd\n",
    "#!ls -1t | head -5\n",
    "##replace username "
   ]
  },
  {
   "cell_type": "code",
   "execution_count": 38,
   "metadata": {
    "collapsed": true
   },
   "outputs": [],
   "source": [
    "income_chr=\"income_per_person_gdppercapita_ppp_inflation_adjusted.csv\"\n",
    "self_employed_chr=\"self_employed_percent_of_employment.csv\"\n",
    "hdi_chr=\"hdi_human_development_index(1).csv\"\n",
    "child_mortality_chr=\"child_mortality_0_5_year_olds_dying_per_1000_born.csv\"\n",
    "life_expectancy_chr=\"life_expectancy_years.csv\"\n",
    "co2_emissions_chr=\"co2_emissions_tonnes_per_person.csv\"\n",
    "country_code_chr='country_codes.csv'"
   ]
  },
  {
   "cell_type": "code",
   "execution_count": 39,
   "metadata": {
    "collapsed": true
   },
   "outputs": [],
   "source": [
    "from bqplot import (\n",
    "    pyplot as plt,LogScale,LinearScale,OrdinalColorScale,\n",
    "    ColorAxis,Axis,Scatter,Lines,CATEGORY10,Label,Figure,\n",
    "    Tooltip\n",
    ")\n",
    "from ipywidgets import HBox,VBox,IntSlider,Play,jslink\n",
    "import matplotlib.pyplot as plt2\n",
    "import os\n",
    "import numpy as np\n",
    "import pandas as pd\n",
    "import pandas_profiling\n",
    "import seaborn as sns\n",
    "import chardet\n",
    "from scipy.stats import ttest_ind\n",
    "from functools import reduce\n",
    "%matplotlib inline"
   ]
  },
  {
   "cell_type": "markdown",
   "metadata": {},
   "source": [
    "### Functions Used"
   ]
  },
  {
   "cell_type": "code",
   "execution_count": 40,
   "metadata": {
    "collapsed": true
   },
   "outputs": [],
   "source": [
    "'''function to look at the first 10000 bytes to guess the character encoding'''\n",
    "def char_encoding(file):\n",
    "    with open(file,'rb') as rawdata:\n",
    "        result=chardet.detect(rawdata.read(10000))\n",
    "        print(result)"
   ]
  },
  {
   "cell_type": "code",
   "execution_count": 41,
   "metadata": {
    "collapsed": true
   },
   "outputs": [],
   "source": [
    "'''function to find out the percentage of that is mising in each dataset'''\n",
    "def percent_missing(dataset,dataset_name):\n",
    "    total_cells=np.product(dataset.shape)\n",
    "    missing_values_count=dataset.isnull().sum()\n",
    "    total_missing=missing_values_count.sum()\n",
    "    percent_missing=(total_missing/total_cells)*100\n",
    "    print(\"%.2f%% of the %s dataset is missing.\" %(percent_missing,dataset_name))"
   ]
  },
  {
   "cell_type": "code",
   "execution_count": 42,
   "metadata": {},
   "outputs": [
    {
     "data": {
      "text/plain": [
       "'most of the recent dataset from gapminder have been correctly formated and labeled appropriately\\nthus this step might be unnecessary '"
      ]
     },
     "execution_count": 42,
     "metadata": {},
     "output_type": "execute_result"
    }
   ],
   "source": [
    "'''\n",
    "Rename initial df before transforming them the remane function does not work on transformed dfs\n",
    "Rename label in various dataframes'''\n",
    "def rename_label(df,col_name):\n",
    "    df.rename(columns={\"{}\".format(col_name):'country'},inplace=True)\n",
    "    return df\n",
    "#the col_name variable is entered an str\n",
    "\n",
    "'''most of the recent dataset from gapminder have been correctly formated and labeled appropriately\n",
    "thus this step might be unnecessary '''"
   ]
  },
  {
   "cell_type": "code",
   "execution_count": 43,
   "metadata": {
    "collapsed": true
   },
   "outputs": [],
   "source": [
    "'''Transpose dataframe'''\n",
    "\n",
    "def transform_dataframe(df):\n",
    "    df.index=df[df.columns[0]]\n",
    "    df_transfrom=df.drop(df.columns[0],axis=1)\n",
    "    #df_transfrom.columns=map(lambda x: int(x), df_transfrom.columns)\n",
    "    df_transfrom=df_transfrom.transpose()\n",
    "    return df_transfrom"
   ]
  },
  {
   "cell_type": "code",
   "execution_count": 44,
   "metadata": {
    "collapsed": true
   },
   "outputs": [],
   "source": [
    "'''make sure df colume has been renamed for the merge to work properly \n",
    "the transformed df is what is called for the isnull function'''\n",
    "def df_null(df,df_transform):\n",
    "    df_null=pd.DataFrame(df_transform.isnull().sum())\n",
    "    df_null=df_null.rename(columns={0:'Isnull_Sum'}).reset_index()\n",
    "    isnull_count=list(df_transform.isnull().count())\n",
    "    df_null['Count']=isnull_count\n",
    "    Notnull_Sum=list(df_transform.notnull().sum())\n",
    "    df_null['Notnull_Sum']=Notnull_Sum \n",
    "    df_null['Isnull_Density']=df_null['Isnull_Sum']/df_null['Count']\n",
    "    df_null['Notnull_Density']=df_null['Notnull_Sum']/df_null['Count']\n",
    "    merged_df=pd.merge(df,df_null,how='inner',on='country')\n",
    "    return merged_df\n",
    "\n",
    "#the next cell shows a more effecient way to achieve same result'''"
   ]
  },
  {
   "cell_type": "code",
   "execution_count": 45,
   "metadata": {},
   "outputs": [
    {
     "data": {
      "text/plain": [
       "'I realised i can insert the list directly into the df without needing to go through the process \\nof transform>convert to a Df> then merge'"
      ]
     },
     "execution_count": 45,
     "metadata": {},
     "output_type": "execute_result"
    }
   ],
   "source": [
    "'''I realised i can insert the list directly into the df without needing to go through the process \n",
    "of transform>convert to a Df> then merge'''"
   ]
  },
  {
   "cell_type": "code",
   "execution_count": 46,
   "metadata": {
    "collapsed": true
   },
   "outputs": [],
   "source": [
    "''' df_transform.isnull().count() & df_transform.notnull().count() return the same thing'''\n",
    "def df_null_density(df,df_transform):\n",
    "    notnull_sum_list=list(df_transform.notnull().sum())\n",
    "    isnull_sum_list=list(df_transform.isnull().sum())\n",
    "    df['Notnull_Sum']=notnull_sum_list\n",
    "    df['Isnull_Sum']=isnull_sum_list\n",
    "    count_list=list(df_transform.isnull().count())\n",
    "    df['Count']=count_list\n",
    "    df['Isnull_Density']=df['Isnull_Sum']/df['Count']\n",
    "    df['Notnull_Density']=df['Notnull_Sum']/df['Count']\n",
    "    df.drop(['country'],axis=1,inplace=True)\n",
    "    df.reset_index(inplace=True)\n",
    "    return df"
   ]
  },
  {
   "cell_type": "code",
   "execution_count": 47,
   "metadata": {
    "collapsed": true
   },
   "outputs": [],
   "source": [
    "'''df here is the return value from df_notnull_density function'''\n",
    "\n",
    "def useful_entries(df):\n",
    "    df.drop(df[df['Isnull_Density']>=0.55].index,inplace=True)\n",
    "    df.reset_index(inplace=True)\n",
    "    df.drop(['index'],axis=1,inplace=True)\n",
    "    #return df\n",
    "#for i in df_new_list:\n",
    "    #useful_entries(eval(i))\n",
    "    \n",
    "#new_merged_co2_dropped=new_merged_c02.drop(new_merged_c02[new_merged_c02['count']>=100],axis=1) "
   ]
  },
  {
   "cell_type": "code",
   "execution_count": 48,
   "metadata": {
    "collapsed": true
   },
   "outputs": [],
   "source": [
    "'''the missing values in a column get assigned as imputes, the mean of that row'''\n",
    "def row_mean_imputation(df):\n",
    "    for i in range(df.shape[0]):\n",
    "        row_mean=df.iloc[i,3:-5].mean()\n",
    "        df.iloc[i]=df.iloc[i].fillna(row_mean)\n",
    "    return df"
   ]
  },
  {
   "cell_type": "code",
   "execution_count": 49,
   "metadata": {
    "collapsed": true
   },
   "outputs": [],
   "source": [
    "'''Call this function on a list of merged dataframes after removing the unusable rows\n",
    "according to an agreed threshold'''\n",
    "df_list=[]\n",
    "for df in df_list:\n",
    "    del df.iloc[:,-5:-1]"
   ]
  },
  {
   "cell_type": "markdown",
   "metadata": {},
   "source": [
    "<a id='wrangling'></a>\n",
    "## 3. Data Wrangling\n",
    "\n",
    "### General Properties"
   ]
  },
  {
   "cell_type": "markdown",
   "metadata": {},
   "source": [
    "Find out encoding character"
   ]
  },
  {
   "cell_type": "code",
   "execution_count": 50,
   "metadata": {},
   "outputs": [
    {
     "name": "stdout",
     "output_type": "stream",
     "text": [
      "{'encoding': 'ascii', 'confidence': 1.0, 'language': ''}\n",
      "{'encoding': 'ascii', 'confidence': 1.0, 'language': ''}\n",
      "{'encoding': 'ascii', 'confidence': 1.0, 'language': ''}\n",
      "{'encoding': 'ascii', 'confidence': 1.0, 'language': ''}\n",
      "{'encoding': 'ascii', 'confidence': 1.0, 'language': ''}\n",
      "{'encoding': 'ascii', 'confidence': 1.0, 'language': ''}\n",
      "{'encoding': 'utf-8', 'confidence': 0.87625, 'language': ''}\n"
     ]
    }
   ],
   "source": [
    "char_encoding(income_chr)\n",
    "char_encoding(self_employed_chr)\n",
    "char_encoding(hdi_chr)\n",
    "char_encoding(child_mortality_chr)\n",
    "char_encoding(life_expectancy_chr)\n",
    "char_encoding(co2_emissions_chr)\n",
    "char_encoding(country_code_chr)"
   ]
  },
  {
   "cell_type": "code",
   "execution_count": 51,
   "metadata": {
    "collapsed": true
   },
   "outputs": [],
   "source": [
    "# Load your data and print out a few lines. Perform operations to inspect data\n",
    "#   types and look for instances of missing or possibly errant data.\n",
    "\n",
    "income=pd.read_csv(income_chr,encoding='ascii')\n",
    "co2_per_person=pd.read_csv(co2_emissions_chr,encoding='ascii')\n",
    "child_mortality=pd.read_csv(child_mortality_chr,encoding='ascii')\n",
    "life_expectancy=pd.read_csv(life_expectancy_chr,encoding='ascii')\n",
    "self_employed=pd.read_csv(self_employed_chr,encoding='ascii')\n",
    "hdi=pd.read_csv(hdi_chr,encoding='ascii')\n",
    "country_code=pd.read_csv(country_code_chr,encoding='utf-8')\n",
    "\n",
    "#income.set_index('Country')\n",
    "#use pdseries.index.values to see the list of index ie income.index.values "
   ]
  },
  {
   "cell_type": "markdown",
   "metadata": {},
   "source": [
    "After reading in our data correctly, it is important we get an idea of what the data looks like and if there are any missing values."
   ]
  },
  {
   "cell_type": "code",
   "execution_count": 52,
   "metadata": {},
   "outputs": [
    {
     "data": {
      "text/html": [
       "<div>\n",
       "<style scoped>\n",
       "    .dataframe tbody tr th:only-of-type {\n",
       "        vertical-align: middle;\n",
       "    }\n",
       "\n",
       "    .dataframe tbody tr th {\n",
       "        vertical-align: top;\n",
       "    }\n",
       "\n",
       "    .dataframe thead th {\n",
       "        text-align: right;\n",
       "    }\n",
       "</style>\n",
       "<table border=\"1\" class=\"dataframe\">\n",
       "  <thead>\n",
       "    <tr style=\"text-align: right;\">\n",
       "      <th></th>\n",
       "      <th>name</th>\n",
       "      <th>alpha-2</th>\n",
       "      <th>alpha-3</th>\n",
       "      <th>country-code</th>\n",
       "      <th>iso_3166-2</th>\n",
       "      <th>region</th>\n",
       "      <th>sub-region</th>\n",
       "      <th>region-code</th>\n",
       "      <th>sub-region-code</th>\n",
       "    </tr>\n",
       "  </thead>\n",
       "  <tbody>\n",
       "    <tr>\n",
       "      <th>0</th>\n",
       "      <td>Afghanistan</td>\n",
       "      <td>AF</td>\n",
       "      <td>AFG</td>\n",
       "      <td>4</td>\n",
       "      <td>ISO 3166-2:AF</td>\n",
       "      <td>Asia</td>\n",
       "      <td>Southern Asia</td>\n",
       "      <td>142.0</td>\n",
       "      <td>34.0</td>\n",
       "    </tr>\n",
       "    <tr>\n",
       "      <th>1</th>\n",
       "      <td>Åland Islands</td>\n",
       "      <td>AX</td>\n",
       "      <td>ALA</td>\n",
       "      <td>248</td>\n",
       "      <td>ISO 3166-2:AX</td>\n",
       "      <td>Europe</td>\n",
       "      <td>Northern Europe</td>\n",
       "      <td>150.0</td>\n",
       "      <td>154.0</td>\n",
       "    </tr>\n",
       "    <tr>\n",
       "      <th>2</th>\n",
       "      <td>Albania</td>\n",
       "      <td>AL</td>\n",
       "      <td>ALB</td>\n",
       "      <td>8</td>\n",
       "      <td>ISO 3166-2:AL</td>\n",
       "      <td>Europe</td>\n",
       "      <td>Southern Europe</td>\n",
       "      <td>150.0</td>\n",
       "      <td>39.0</td>\n",
       "    </tr>\n",
       "    <tr>\n",
       "      <th>3</th>\n",
       "      <td>Algeria</td>\n",
       "      <td>DZ</td>\n",
       "      <td>DZA</td>\n",
       "      <td>12</td>\n",
       "      <td>ISO 3166-2:DZ</td>\n",
       "      <td>Africa</td>\n",
       "      <td>Northern Africa</td>\n",
       "      <td>2.0</td>\n",
       "      <td>15.0</td>\n",
       "    </tr>\n",
       "    <tr>\n",
       "      <th>4</th>\n",
       "      <td>American Samoa</td>\n",
       "      <td>AS</td>\n",
       "      <td>ASM</td>\n",
       "      <td>16</td>\n",
       "      <td>ISO 3166-2:AS</td>\n",
       "      <td>Oceania</td>\n",
       "      <td>Polynesia</td>\n",
       "      <td>9.0</td>\n",
       "      <td>61.0</td>\n",
       "    </tr>\n",
       "  </tbody>\n",
       "</table>\n",
       "</div>"
      ],
      "text/plain": [
       "             name alpha-2 alpha-3  country-code     iso_3166-2   region  \\\n",
       "0     Afghanistan      AF     AFG             4  ISO 3166-2:AF     Asia   \n",
       "1   Åland Islands      AX     ALA           248  ISO 3166-2:AX   Europe   \n",
       "2         Albania      AL     ALB             8  ISO 3166-2:AL   Europe   \n",
       "3         Algeria      DZ     DZA            12  ISO 3166-2:DZ   Africa   \n",
       "4  American Samoa      AS     ASM            16  ISO 3166-2:AS  Oceania   \n",
       "\n",
       "        sub-region  region-code  sub-region-code  \n",
       "0    Southern Asia        142.0             34.0  \n",
       "1  Northern Europe        150.0            154.0  \n",
       "2  Southern Europe        150.0             39.0  \n",
       "3  Northern Africa          2.0             15.0  \n",
       "4        Polynesia          9.0             61.0  "
      ]
     },
     "execution_count": 52,
     "metadata": {},
     "output_type": "execute_result"
    }
   ],
   "source": [
    "country_code.head()"
   ]
  },
  {
   "cell_type": "code",
   "execution_count": 53,
   "metadata": {
    "collapsed": true
   },
   "outputs": [],
   "source": [
    "country_code.drop(['alpha-2','alpha-3','country-code','iso_3166-2','region-code','sub-region-code']\n",
    "                  ,axis=1,inplace=True)"
   ]
  },
  {
   "cell_type": "code",
   "execution_count": 54,
   "metadata": {
    "collapsed": true
   },
   "outputs": [],
   "source": [
    "country_code.rename({'name':'country'},axis=1,inplace=True)"
   ]
  },
  {
   "cell_type": "code",
   "execution_count": 55,
   "metadata": {
    "collapsed": true
   },
   "outputs": [],
   "source": [
    "#I wrote a function to merge the country_code dataframe with the respective dataframes\n",
    "def merge_with_country_code(df):\n",
    "    df=country_code.merge(right=df,how='inner', on='country')\n",
    "    return df"
   ]
  },
  {
   "cell_type": "markdown",
   "metadata": {},
   "source": [
    "Call the merge_with_country_code function for each of the dataframes"
   ]
  },
  {
   "cell_type": "code",
   "execution_count": 56,
   "metadata": {
    "collapsed": true
   },
   "outputs": [],
   "source": [
    "income=merge_with_country_code(income)"
   ]
  },
  {
   "cell_type": "code",
   "execution_count": 57,
   "metadata": {},
   "outputs": [
    {
     "data": {
      "text/html": [
       "<div>\n",
       "<style scoped>\n",
       "    .dataframe tbody tr th:only-of-type {\n",
       "        vertical-align: middle;\n",
       "    }\n",
       "\n",
       "    .dataframe tbody tr th {\n",
       "        vertical-align: top;\n",
       "    }\n",
       "\n",
       "    .dataframe thead th {\n",
       "        text-align: right;\n",
       "    }\n",
       "</style>\n",
       "<table border=\"1\" class=\"dataframe\">\n",
       "  <thead>\n",
       "    <tr style=\"text-align: right;\">\n",
       "      <th></th>\n",
       "      <th>country</th>\n",
       "      <th>region</th>\n",
       "      <th>sub-region</th>\n",
       "      <th>1800</th>\n",
       "      <th>1801</th>\n",
       "      <th>1802</th>\n",
       "      <th>1803</th>\n",
       "      <th>1804</th>\n",
       "      <th>1805</th>\n",
       "      <th>1806</th>\n",
       "      <th>...</th>\n",
       "      <th>2031</th>\n",
       "      <th>2032</th>\n",
       "      <th>2033</th>\n",
       "      <th>2034</th>\n",
       "      <th>2035</th>\n",
       "      <th>2036</th>\n",
       "      <th>2037</th>\n",
       "      <th>2038</th>\n",
       "      <th>2039</th>\n",
       "      <th>2040</th>\n",
       "    </tr>\n",
       "  </thead>\n",
       "  <tbody>\n",
       "    <tr>\n",
       "      <th>0</th>\n",
       "      <td>Afghanistan</td>\n",
       "      <td>Asia</td>\n",
       "      <td>Southern Asia</td>\n",
       "      <td>603</td>\n",
       "      <td>603</td>\n",
       "      <td>603</td>\n",
       "      <td>603</td>\n",
       "      <td>603</td>\n",
       "      <td>603</td>\n",
       "      <td>603</td>\n",
       "      <td>...</td>\n",
       "      <td>2420</td>\n",
       "      <td>2470</td>\n",
       "      <td>2520</td>\n",
       "      <td>2580</td>\n",
       "      <td>2640</td>\n",
       "      <td>2700</td>\n",
       "      <td>2760</td>\n",
       "      <td>2820</td>\n",
       "      <td>2880</td>\n",
       "      <td>2940</td>\n",
       "    </tr>\n",
       "    <tr>\n",
       "      <th>1</th>\n",
       "      <td>Albania</td>\n",
       "      <td>Europe</td>\n",
       "      <td>Southern Europe</td>\n",
       "      <td>667</td>\n",
       "      <td>667</td>\n",
       "      <td>667</td>\n",
       "      <td>667</td>\n",
       "      <td>667</td>\n",
       "      <td>668</td>\n",
       "      <td>668</td>\n",
       "      <td>...</td>\n",
       "      <td>18500</td>\n",
       "      <td>18900</td>\n",
       "      <td>19300</td>\n",
       "      <td>19700</td>\n",
       "      <td>20200</td>\n",
       "      <td>20600</td>\n",
       "      <td>21100</td>\n",
       "      <td>21500</td>\n",
       "      <td>22000</td>\n",
       "      <td>22500</td>\n",
       "    </tr>\n",
       "    <tr>\n",
       "      <th>2</th>\n",
       "      <td>Algeria</td>\n",
       "      <td>Africa</td>\n",
       "      <td>Northern Africa</td>\n",
       "      <td>715</td>\n",
       "      <td>716</td>\n",
       "      <td>717</td>\n",
       "      <td>718</td>\n",
       "      <td>719</td>\n",
       "      <td>720</td>\n",
       "      <td>721</td>\n",
       "      <td>...</td>\n",
       "      <td>15600</td>\n",
       "      <td>15900</td>\n",
       "      <td>16300</td>\n",
       "      <td>16700</td>\n",
       "      <td>17000</td>\n",
       "      <td>17400</td>\n",
       "      <td>17800</td>\n",
       "      <td>18200</td>\n",
       "      <td>18600</td>\n",
       "      <td>19000</td>\n",
       "    </tr>\n",
       "    <tr>\n",
       "      <th>3</th>\n",
       "      <td>Andorra</td>\n",
       "      <td>Europe</td>\n",
       "      <td>Southern Europe</td>\n",
       "      <td>1200</td>\n",
       "      <td>1200</td>\n",
       "      <td>1200</td>\n",
       "      <td>1200</td>\n",
       "      <td>1210</td>\n",
       "      <td>1210</td>\n",
       "      <td>1210</td>\n",
       "      <td>...</td>\n",
       "      <td>73200</td>\n",
       "      <td>74800</td>\n",
       "      <td>76400</td>\n",
       "      <td>78100</td>\n",
       "      <td>79900</td>\n",
       "      <td>81600</td>\n",
       "      <td>83400</td>\n",
       "      <td>85300</td>\n",
       "      <td>87200</td>\n",
       "      <td>89100</td>\n",
       "    </tr>\n",
       "    <tr>\n",
       "      <th>4</th>\n",
       "      <td>Angola</td>\n",
       "      <td>Africa</td>\n",
       "      <td>Middle Africa</td>\n",
       "      <td>618</td>\n",
       "      <td>620</td>\n",
       "      <td>623</td>\n",
       "      <td>626</td>\n",
       "      <td>628</td>\n",
       "      <td>631</td>\n",
       "      <td>634</td>\n",
       "      <td>...</td>\n",
       "      <td>6270</td>\n",
       "      <td>6410</td>\n",
       "      <td>6550</td>\n",
       "      <td>6700</td>\n",
       "      <td>6850</td>\n",
       "      <td>7000</td>\n",
       "      <td>7150</td>\n",
       "      <td>7310</td>\n",
       "      <td>7470</td>\n",
       "      <td>7640</td>\n",
       "    </tr>\n",
       "  </tbody>\n",
       "</table>\n",
       "<p>5 rows × 244 columns</p>\n",
       "</div>"
      ],
      "text/plain": [
       "       country  region       sub-region  1800  1801  1802  1803  1804  1805  \\\n",
       "0  Afghanistan    Asia    Southern Asia   603   603   603   603   603   603   \n",
       "1      Albania  Europe  Southern Europe   667   667   667   667   667   668   \n",
       "2      Algeria  Africa  Northern Africa   715   716   717   718   719   720   \n",
       "3      Andorra  Europe  Southern Europe  1200  1200  1200  1200  1210  1210   \n",
       "4       Angola  Africa    Middle Africa   618   620   623   626   628   631   \n",
       "\n",
       "   1806  ...     2031   2032   2033   2034   2035   2036   2037   2038   2039  \\\n",
       "0   603  ...     2420   2470   2520   2580   2640   2700   2760   2820   2880   \n",
       "1   668  ...    18500  18900  19300  19700  20200  20600  21100  21500  22000   \n",
       "2   721  ...    15600  15900  16300  16700  17000  17400  17800  18200  18600   \n",
       "3  1210  ...    73200  74800  76400  78100  79900  81600  83400  85300  87200   \n",
       "4   634  ...     6270   6410   6550   6700   6850   7000   7150   7310   7470   \n",
       "\n",
       "    2040  \n",
       "0   2940  \n",
       "1  22500  \n",
       "2  19000  \n",
       "3  89100  \n",
       "4   7640  \n",
       "\n",
       "[5 rows x 244 columns]"
      ]
     },
     "execution_count": 57,
     "metadata": {},
     "output_type": "execute_result"
    }
   ],
   "source": [
    "income.head()"
   ]
  },
  {
   "cell_type": "code",
   "execution_count": 58,
   "metadata": {
    "collapsed": true
   },
   "outputs": [],
   "source": [
    "hdi=merge_with_country_code(hdi)"
   ]
  },
  {
   "cell_type": "code",
   "execution_count": 59,
   "metadata": {},
   "outputs": [
    {
     "data": {
      "text/html": [
       "<div>\n",
       "<style scoped>\n",
       "    .dataframe tbody tr th:only-of-type {\n",
       "        vertical-align: middle;\n",
       "    }\n",
       "\n",
       "    .dataframe tbody tr th {\n",
       "        vertical-align: top;\n",
       "    }\n",
       "\n",
       "    .dataframe thead th {\n",
       "        text-align: right;\n",
       "    }\n",
       "</style>\n",
       "<table border=\"1\" class=\"dataframe\">\n",
       "  <thead>\n",
       "    <tr style=\"text-align: right;\">\n",
       "      <th></th>\n",
       "      <th>country</th>\n",
       "      <th>region</th>\n",
       "      <th>sub-region</th>\n",
       "      <th>1990</th>\n",
       "      <th>1991</th>\n",
       "      <th>1992</th>\n",
       "      <th>1993</th>\n",
       "      <th>1994</th>\n",
       "      <th>1995</th>\n",
       "      <th>1996</th>\n",
       "      <th>...</th>\n",
       "      <th>2006</th>\n",
       "      <th>2007</th>\n",
       "      <th>2008</th>\n",
       "      <th>2009</th>\n",
       "      <th>2010</th>\n",
       "      <th>2011</th>\n",
       "      <th>2012</th>\n",
       "      <th>2013</th>\n",
       "      <th>2014</th>\n",
       "      <th>2015</th>\n",
       "    </tr>\n",
       "  </thead>\n",
       "  <tbody>\n",
       "    <tr>\n",
       "      <th>0</th>\n",
       "      <td>Afghanistan</td>\n",
       "      <td>Asia</td>\n",
       "      <td>Southern Asia</td>\n",
       "      <td>0.295</td>\n",
       "      <td>0.300</td>\n",
       "      <td>0.309</td>\n",
       "      <td>0.305</td>\n",
       "      <td>0.300</td>\n",
       "      <td>0.324</td>\n",
       "      <td>0.328</td>\n",
       "      <td>...</td>\n",
       "      <td>0.415</td>\n",
       "      <td>0.433</td>\n",
       "      <td>0.434</td>\n",
       "      <td>0.448</td>\n",
       "      <td>0.454</td>\n",
       "      <td>0.463</td>\n",
       "      <td>0.470</td>\n",
       "      <td>0.476</td>\n",
       "      <td>0.479</td>\n",
       "      <td>0.479</td>\n",
       "    </tr>\n",
       "    <tr>\n",
       "      <th>1</th>\n",
       "      <td>Albania</td>\n",
       "      <td>Europe</td>\n",
       "      <td>Southern Europe</td>\n",
       "      <td>0.635</td>\n",
       "      <td>0.618</td>\n",
       "      <td>0.603</td>\n",
       "      <td>0.608</td>\n",
       "      <td>0.616</td>\n",
       "      <td>0.628</td>\n",
       "      <td>0.637</td>\n",
       "      <td>...</td>\n",
       "      <td>0.703</td>\n",
       "      <td>0.713</td>\n",
       "      <td>0.721</td>\n",
       "      <td>0.725</td>\n",
       "      <td>0.738</td>\n",
       "      <td>0.752</td>\n",
       "      <td>0.759</td>\n",
       "      <td>0.761</td>\n",
       "      <td>0.762</td>\n",
       "      <td>0.764</td>\n",
       "    </tr>\n",
       "    <tr>\n",
       "      <th>2</th>\n",
       "      <td>Algeria</td>\n",
       "      <td>Africa</td>\n",
       "      <td>Northern Africa</td>\n",
       "      <td>0.577</td>\n",
       "      <td>0.581</td>\n",
       "      <td>0.587</td>\n",
       "      <td>0.591</td>\n",
       "      <td>0.595</td>\n",
       "      <td>0.600</td>\n",
       "      <td>0.609</td>\n",
       "      <td>...</td>\n",
       "      <td>0.690</td>\n",
       "      <td>0.697</td>\n",
       "      <td>0.705</td>\n",
       "      <td>0.714</td>\n",
       "      <td>0.724</td>\n",
       "      <td>0.732</td>\n",
       "      <td>0.737</td>\n",
       "      <td>0.741</td>\n",
       "      <td>0.743</td>\n",
       "      <td>0.745</td>\n",
       "    </tr>\n",
       "    <tr>\n",
       "      <th>3</th>\n",
       "      <td>Andorra</td>\n",
       "      <td>Europe</td>\n",
       "      <td>Southern Europe</td>\n",
       "      <td>NaN</td>\n",
       "      <td>NaN</td>\n",
       "      <td>NaN</td>\n",
       "      <td>NaN</td>\n",
       "      <td>NaN</td>\n",
       "      <td>NaN</td>\n",
       "      <td>NaN</td>\n",
       "      <td>...</td>\n",
       "      <td>NaN</td>\n",
       "      <td>NaN</td>\n",
       "      <td>NaN</td>\n",
       "      <td>NaN</td>\n",
       "      <td>0.819</td>\n",
       "      <td>0.819</td>\n",
       "      <td>0.843</td>\n",
       "      <td>0.850</td>\n",
       "      <td>0.857</td>\n",
       "      <td>0.858</td>\n",
       "    </tr>\n",
       "    <tr>\n",
       "      <th>4</th>\n",
       "      <td>Angola</td>\n",
       "      <td>Africa</td>\n",
       "      <td>Middle Africa</td>\n",
       "      <td>NaN</td>\n",
       "      <td>NaN</td>\n",
       "      <td>NaN</td>\n",
       "      <td>NaN</td>\n",
       "      <td>NaN</td>\n",
       "      <td>NaN</td>\n",
       "      <td>NaN</td>\n",
       "      <td>...</td>\n",
       "      <td>0.454</td>\n",
       "      <td>0.468</td>\n",
       "      <td>0.480</td>\n",
       "      <td>0.488</td>\n",
       "      <td>0.495</td>\n",
       "      <td>0.508</td>\n",
       "      <td>0.523</td>\n",
       "      <td>0.527</td>\n",
       "      <td>0.531</td>\n",
       "      <td>0.533</td>\n",
       "    </tr>\n",
       "  </tbody>\n",
       "</table>\n",
       "<p>5 rows × 29 columns</p>\n",
       "</div>"
      ],
      "text/plain": [
       "       country  region       sub-region   1990   1991   1992   1993   1994  \\\n",
       "0  Afghanistan    Asia    Southern Asia  0.295  0.300  0.309  0.305  0.300   \n",
       "1      Albania  Europe  Southern Europe  0.635  0.618  0.603  0.608  0.616   \n",
       "2      Algeria  Africa  Northern Africa  0.577  0.581  0.587  0.591  0.595   \n",
       "3      Andorra  Europe  Southern Europe    NaN    NaN    NaN    NaN    NaN   \n",
       "4       Angola  Africa    Middle Africa    NaN    NaN    NaN    NaN    NaN   \n",
       "\n",
       "    1995   1996  ...     2006   2007   2008   2009   2010   2011   2012  \\\n",
       "0  0.324  0.328  ...    0.415  0.433  0.434  0.448  0.454  0.463  0.470   \n",
       "1  0.628  0.637  ...    0.703  0.713  0.721  0.725  0.738  0.752  0.759   \n",
       "2  0.600  0.609  ...    0.690  0.697  0.705  0.714  0.724  0.732  0.737   \n",
       "3    NaN    NaN  ...      NaN    NaN    NaN    NaN  0.819  0.819  0.843   \n",
       "4    NaN    NaN  ...    0.454  0.468  0.480  0.488  0.495  0.508  0.523   \n",
       "\n",
       "    2013   2014   2015  \n",
       "0  0.476  0.479  0.479  \n",
       "1  0.761  0.762  0.764  \n",
       "2  0.741  0.743  0.745  \n",
       "3  0.850  0.857  0.858  \n",
       "4  0.527  0.531  0.533  \n",
       "\n",
       "[5 rows x 29 columns]"
      ]
     },
     "execution_count": 59,
     "metadata": {},
     "output_type": "execute_result"
    }
   ],
   "source": [
    "hdi.head()"
   ]
  },
  {
   "cell_type": "code",
   "execution_count": 60,
   "metadata": {
    "collapsed": true
   },
   "outputs": [],
   "source": [
    "self_employed=merge_with_country_code(self_employed)"
   ]
  },
  {
   "cell_type": "code",
   "execution_count": 61,
   "metadata": {},
   "outputs": [
    {
     "data": {
      "text/html": [
       "<div>\n",
       "<style scoped>\n",
       "    .dataframe tbody tr th:only-of-type {\n",
       "        vertical-align: middle;\n",
       "    }\n",
       "\n",
       "    .dataframe tbody tr th {\n",
       "        vertical-align: top;\n",
       "    }\n",
       "\n",
       "    .dataframe thead th {\n",
       "        text-align: right;\n",
       "    }\n",
       "</style>\n",
       "<table border=\"1\" class=\"dataframe\">\n",
       "  <thead>\n",
       "    <tr style=\"text-align: right;\">\n",
       "      <th></th>\n",
       "      <th>country</th>\n",
       "      <th>region</th>\n",
       "      <th>sub-region</th>\n",
       "      <th>1991</th>\n",
       "      <th>1992</th>\n",
       "      <th>1993</th>\n",
       "      <th>1994</th>\n",
       "      <th>1995</th>\n",
       "      <th>1996</th>\n",
       "      <th>1997</th>\n",
       "      <th>...</th>\n",
       "      <th>2013</th>\n",
       "      <th>2014</th>\n",
       "      <th>2015</th>\n",
       "      <th>2016</th>\n",
       "      <th>2017</th>\n",
       "      <th>2018</th>\n",
       "      <th>2019</th>\n",
       "      <th>2020</th>\n",
       "      <th>2021</th>\n",
       "      <th>2022</th>\n",
       "    </tr>\n",
       "  </thead>\n",
       "  <tbody>\n",
       "    <tr>\n",
       "      <th>0</th>\n",
       "      <td>Afghanistan</td>\n",
       "      <td>Asia</td>\n",
       "      <td>Southern Asia</td>\n",
       "      <td>63.8</td>\n",
       "      <td>65.6</td>\n",
       "      <td>70.8</td>\n",
       "      <td>76.2</td>\n",
       "      <td>74.5</td>\n",
       "      <td>73.3</td>\n",
       "      <td>74.8</td>\n",
       "      <td>...</td>\n",
       "      <td>66.4</td>\n",
       "      <td>66.6</td>\n",
       "      <td>67.1</td>\n",
       "      <td>67.2</td>\n",
       "      <td>67.3</td>\n",
       "      <td>67.3</td>\n",
       "      <td>67.3</td>\n",
       "      <td>67.3</td>\n",
       "      <td>67.2</td>\n",
       "      <td>67.1</td>\n",
       "    </tr>\n",
       "    <tr>\n",
       "      <th>1</th>\n",
       "      <td>Albania</td>\n",
       "      <td>Europe</td>\n",
       "      <td>Southern Europe</td>\n",
       "      <td>47.9</td>\n",
       "      <td>62.8</td>\n",
       "      <td>71.6</td>\n",
       "      <td>72.1</td>\n",
       "      <td>71.0</td>\n",
       "      <td>72.0</td>\n",
       "      <td>62.0</td>\n",
       "      <td>...</td>\n",
       "      <td>59.7</td>\n",
       "      <td>58.4</td>\n",
       "      <td>59.0</td>\n",
       "      <td>59.4</td>\n",
       "      <td>59.6</td>\n",
       "      <td>59.6</td>\n",
       "      <td>59.6</td>\n",
       "      <td>59.6</td>\n",
       "      <td>59.5</td>\n",
       "      <td>59.5</td>\n",
       "    </tr>\n",
       "    <tr>\n",
       "      <th>2</th>\n",
       "      <td>Algeria</td>\n",
       "      <td>Africa</td>\n",
       "      <td>Northern Africa</td>\n",
       "      <td>40.6</td>\n",
       "      <td>39.7</td>\n",
       "      <td>39.7</td>\n",
       "      <td>39.5</td>\n",
       "      <td>39.2</td>\n",
       "      <td>39.1</td>\n",
       "      <td>39.2</td>\n",
       "      <td>...</td>\n",
       "      <td>31.1</td>\n",
       "      <td>30.9</td>\n",
       "      <td>31.0</td>\n",
       "      <td>30.9</td>\n",
       "      <td>30.9</td>\n",
       "      <td>30.9</td>\n",
       "      <td>30.9</td>\n",
       "      <td>30.9</td>\n",
       "      <td>30.9</td>\n",
       "      <td>30.8</td>\n",
       "    </tr>\n",
       "    <tr>\n",
       "      <th>3</th>\n",
       "      <td>Angola</td>\n",
       "      <td>Africa</td>\n",
       "      <td>Middle Africa</td>\n",
       "      <td>74.5</td>\n",
       "      <td>71.4</td>\n",
       "      <td>69.7</td>\n",
       "      <td>67.8</td>\n",
       "      <td>66.9</td>\n",
       "      <td>66.5</td>\n",
       "      <td>66.7</td>\n",
       "      <td>...</td>\n",
       "      <td>71.1</td>\n",
       "      <td>71.0</td>\n",
       "      <td>71.1</td>\n",
       "      <td>71.5</td>\n",
       "      <td>71.6</td>\n",
       "      <td>71.5</td>\n",
       "      <td>71.5</td>\n",
       "      <td>71.5</td>\n",
       "      <td>71.4</td>\n",
       "      <td>71.4</td>\n",
       "    </tr>\n",
       "    <tr>\n",
       "      <th>4</th>\n",
       "      <td>Argentina</td>\n",
       "      <td>Americas</td>\n",
       "      <td>South America</td>\n",
       "      <td>29.7</td>\n",
       "      <td>29.8</td>\n",
       "      <td>31.2</td>\n",
       "      <td>29.7</td>\n",
       "      <td>29.4</td>\n",
       "      <td>29.1</td>\n",
       "      <td>28.2</td>\n",
       "      <td>...</td>\n",
       "      <td>24.8</td>\n",
       "      <td>25.1</td>\n",
       "      <td>25.2</td>\n",
       "      <td>25.1</td>\n",
       "      <td>24.9</td>\n",
       "      <td>24.9</td>\n",
       "      <td>24.8</td>\n",
       "      <td>24.8</td>\n",
       "      <td>24.7</td>\n",
       "      <td>24.7</td>\n",
       "    </tr>\n",
       "  </tbody>\n",
       "</table>\n",
       "<p>5 rows × 35 columns</p>\n",
       "</div>"
      ],
      "text/plain": [
       "       country    region       sub-region  1991  1992  1993  1994  1995  1996  \\\n",
       "0  Afghanistan      Asia    Southern Asia  63.8  65.6  70.8  76.2  74.5  73.3   \n",
       "1      Albania    Europe  Southern Europe  47.9  62.8  71.6  72.1  71.0  72.0   \n",
       "2      Algeria    Africa  Northern Africa  40.6  39.7  39.7  39.5  39.2  39.1   \n",
       "3       Angola    Africa    Middle Africa  74.5  71.4  69.7  67.8  66.9  66.5   \n",
       "4    Argentina  Americas    South America  29.7  29.8  31.2  29.7  29.4  29.1   \n",
       "\n",
       "   1997  ...   2013  2014  2015  2016  2017  2018  2019  2020  2021  2022  \n",
       "0  74.8  ...   66.4  66.6  67.1  67.2  67.3  67.3  67.3  67.3  67.2  67.1  \n",
       "1  62.0  ...   59.7  58.4  59.0  59.4  59.6  59.6  59.6  59.6  59.5  59.5  \n",
       "2  39.2  ...   31.1  30.9  31.0  30.9  30.9  30.9  30.9  30.9  30.9  30.8  \n",
       "3  66.7  ...   71.1  71.0  71.1  71.5  71.6  71.5  71.5  71.5  71.4  71.4  \n",
       "4  28.2  ...   24.8  25.1  25.2  25.1  24.9  24.9  24.8  24.8  24.7  24.7  \n",
       "\n",
       "[5 rows x 35 columns]"
      ]
     },
     "execution_count": 61,
     "metadata": {},
     "output_type": "execute_result"
    }
   ],
   "source": [
    "self_employed.head()"
   ]
  },
  {
   "cell_type": "code",
   "execution_count": 62,
   "metadata": {
    "collapsed": true
   },
   "outputs": [],
   "source": [
    "child_mortality=merge_with_country_code(child_mortality)"
   ]
  },
  {
   "cell_type": "code",
   "execution_count": 63,
   "metadata": {},
   "outputs": [
    {
     "data": {
      "text/html": [
       "<div>\n",
       "<style scoped>\n",
       "    .dataframe tbody tr th:only-of-type {\n",
       "        vertical-align: middle;\n",
       "    }\n",
       "\n",
       "    .dataframe tbody tr th {\n",
       "        vertical-align: top;\n",
       "    }\n",
       "\n",
       "    .dataframe thead th {\n",
       "        text-align: right;\n",
       "    }\n",
       "</style>\n",
       "<table border=\"1\" class=\"dataframe\">\n",
       "  <thead>\n",
       "    <tr style=\"text-align: right;\">\n",
       "      <th></th>\n",
       "      <th>country</th>\n",
       "      <th>region</th>\n",
       "      <th>sub-region</th>\n",
       "      <th>1800</th>\n",
       "      <th>1801</th>\n",
       "      <th>1802</th>\n",
       "      <th>1803</th>\n",
       "      <th>1804</th>\n",
       "      <th>1805</th>\n",
       "      <th>1806</th>\n",
       "      <th>...</th>\n",
       "      <th>2009</th>\n",
       "      <th>2010</th>\n",
       "      <th>2011</th>\n",
       "      <th>2012</th>\n",
       "      <th>2013</th>\n",
       "      <th>2014</th>\n",
       "      <th>2015</th>\n",
       "      <th>2016</th>\n",
       "      <th>2017</th>\n",
       "      <th>2018</th>\n",
       "    </tr>\n",
       "  </thead>\n",
       "  <tbody>\n",
       "    <tr>\n",
       "      <th>0</th>\n",
       "      <td>Afghanistan</td>\n",
       "      <td>Asia</td>\n",
       "      <td>Southern Asia</td>\n",
       "      <td>469.0</td>\n",
       "      <td>469.0</td>\n",
       "      <td>469.0</td>\n",
       "      <td>469.0</td>\n",
       "      <td>469.0</td>\n",
       "      <td>469.0</td>\n",
       "      <td>470.0</td>\n",
       "      <td>...</td>\n",
       "      <td>94.1</td>\n",
       "      <td>90.2</td>\n",
       "      <td>86.4</td>\n",
       "      <td>82.8</td>\n",
       "      <td>79.3</td>\n",
       "      <td>76.1</td>\n",
       "      <td>73.2</td>\n",
       "      <td>70.4</td>\n",
       "      <td>68.2</td>\n",
       "      <td>65.9</td>\n",
       "    </tr>\n",
       "    <tr>\n",
       "      <th>1</th>\n",
       "      <td>Albania</td>\n",
       "      <td>Europe</td>\n",
       "      <td>Southern Europe</td>\n",
       "      <td>375.0</td>\n",
       "      <td>375.0</td>\n",
       "      <td>375.0</td>\n",
       "      <td>375.0</td>\n",
       "      <td>375.0</td>\n",
       "      <td>375.0</td>\n",
       "      <td>375.0</td>\n",
       "      <td>...</td>\n",
       "      <td>17.2</td>\n",
       "      <td>16.6</td>\n",
       "      <td>16.0</td>\n",
       "      <td>15.4</td>\n",
       "      <td>14.9</td>\n",
       "      <td>14.4</td>\n",
       "      <td>14.0</td>\n",
       "      <td>13.5</td>\n",
       "      <td>13.3</td>\n",
       "      <td>12.9</td>\n",
       "    </tr>\n",
       "    <tr>\n",
       "      <th>2</th>\n",
       "      <td>Algeria</td>\n",
       "      <td>Africa</td>\n",
       "      <td>Northern Africa</td>\n",
       "      <td>460.0</td>\n",
       "      <td>460.0</td>\n",
       "      <td>460.0</td>\n",
       "      <td>460.0</td>\n",
       "      <td>460.0</td>\n",
       "      <td>460.0</td>\n",
       "      <td>460.0</td>\n",
       "      <td>...</td>\n",
       "      <td>28.3</td>\n",
       "      <td>27.3</td>\n",
       "      <td>26.6</td>\n",
       "      <td>26.1</td>\n",
       "      <td>25.8</td>\n",
       "      <td>25.6</td>\n",
       "      <td>25.5</td>\n",
       "      <td>25.2</td>\n",
       "      <td>23.9</td>\n",
       "      <td>23.1</td>\n",
       "    </tr>\n",
       "    <tr>\n",
       "      <th>3</th>\n",
       "      <td>Andorra</td>\n",
       "      <td>Europe</td>\n",
       "      <td>Southern Europe</td>\n",
       "      <td>NaN</td>\n",
       "      <td>NaN</td>\n",
       "      <td>NaN</td>\n",
       "      <td>NaN</td>\n",
       "      <td>NaN</td>\n",
       "      <td>NaN</td>\n",
       "      <td>NaN</td>\n",
       "      <td>...</td>\n",
       "      <td>3.4</td>\n",
       "      <td>3.3</td>\n",
       "      <td>3.2</td>\n",
       "      <td>3.1</td>\n",
       "      <td>3.0</td>\n",
       "      <td>2.9</td>\n",
       "      <td>2.8</td>\n",
       "      <td>2.7</td>\n",
       "      <td>NaN</td>\n",
       "      <td>NaN</td>\n",
       "    </tr>\n",
       "    <tr>\n",
       "      <th>4</th>\n",
       "      <td>Angola</td>\n",
       "      <td>Africa</td>\n",
       "      <td>Middle Africa</td>\n",
       "      <td>486.0</td>\n",
       "      <td>486.0</td>\n",
       "      <td>486.0</td>\n",
       "      <td>486.0</td>\n",
       "      <td>486.0</td>\n",
       "      <td>486.0</td>\n",
       "      <td>486.0</td>\n",
       "      <td>...</td>\n",
       "      <td>128.0</td>\n",
       "      <td>119.0</td>\n",
       "      <td>111.0</td>\n",
       "      <td>104.0</td>\n",
       "      <td>96.8</td>\n",
       "      <td>91.2</td>\n",
       "      <td>86.5</td>\n",
       "      <td>82.5</td>\n",
       "      <td>83.1</td>\n",
       "      <td>81.6</td>\n",
       "    </tr>\n",
       "  </tbody>\n",
       "</table>\n",
       "<p>5 rows × 222 columns</p>\n",
       "</div>"
      ],
      "text/plain": [
       "       country  region       sub-region   1800   1801   1802   1803   1804  \\\n",
       "0  Afghanistan    Asia    Southern Asia  469.0  469.0  469.0  469.0  469.0   \n",
       "1      Albania  Europe  Southern Europe  375.0  375.0  375.0  375.0  375.0   \n",
       "2      Algeria  Africa  Northern Africa  460.0  460.0  460.0  460.0  460.0   \n",
       "3      Andorra  Europe  Southern Europe    NaN    NaN    NaN    NaN    NaN   \n",
       "4       Angola  Africa    Middle Africa  486.0  486.0  486.0  486.0  486.0   \n",
       "\n",
       "    1805   1806  ...    2009   2010   2011   2012  2013  2014  2015  2016  \\\n",
       "0  469.0  470.0  ...    94.1   90.2   86.4   82.8  79.3  76.1  73.2  70.4   \n",
       "1  375.0  375.0  ...    17.2   16.6   16.0   15.4  14.9  14.4  14.0  13.5   \n",
       "2  460.0  460.0  ...    28.3   27.3   26.6   26.1  25.8  25.6  25.5  25.2   \n",
       "3    NaN    NaN  ...     3.4    3.3    3.2    3.1   3.0   2.9   2.8   2.7   \n",
       "4  486.0  486.0  ...   128.0  119.0  111.0  104.0  96.8  91.2  86.5  82.5   \n",
       "\n",
       "   2017  2018  \n",
       "0  68.2  65.9  \n",
       "1  13.3  12.9  \n",
       "2  23.9  23.1  \n",
       "3   NaN   NaN  \n",
       "4  83.1  81.6  \n",
       "\n",
       "[5 rows x 222 columns]"
      ]
     },
     "execution_count": 63,
     "metadata": {},
     "output_type": "execute_result"
    }
   ],
   "source": [
    "child_mortality.head()"
   ]
  },
  {
   "cell_type": "code",
   "execution_count": 64,
   "metadata": {
    "collapsed": true
   },
   "outputs": [],
   "source": [
    "life_expectancy=merge_with_country_code(life_expectancy)"
   ]
  },
  {
   "cell_type": "code",
   "execution_count": 65,
   "metadata": {},
   "outputs": [
    {
     "data": {
      "text/html": [
       "<div>\n",
       "<style scoped>\n",
       "    .dataframe tbody tr th:only-of-type {\n",
       "        vertical-align: middle;\n",
       "    }\n",
       "\n",
       "    .dataframe tbody tr th {\n",
       "        vertical-align: top;\n",
       "    }\n",
       "\n",
       "    .dataframe thead th {\n",
       "        text-align: right;\n",
       "    }\n",
       "</style>\n",
       "<table border=\"1\" class=\"dataframe\">\n",
       "  <thead>\n",
       "    <tr style=\"text-align: right;\">\n",
       "      <th></th>\n",
       "      <th>country</th>\n",
       "      <th>region</th>\n",
       "      <th>sub-region</th>\n",
       "      <th>1800</th>\n",
       "      <th>1801</th>\n",
       "      <th>1802</th>\n",
       "      <th>1803</th>\n",
       "      <th>1804</th>\n",
       "      <th>1805</th>\n",
       "      <th>1806</th>\n",
       "      <th>...</th>\n",
       "      <th>2009</th>\n",
       "      <th>2010</th>\n",
       "      <th>2011</th>\n",
       "      <th>2012</th>\n",
       "      <th>2013</th>\n",
       "      <th>2014</th>\n",
       "      <th>2015</th>\n",
       "      <th>2016</th>\n",
       "      <th>2017</th>\n",
       "      <th>2018</th>\n",
       "    </tr>\n",
       "  </thead>\n",
       "  <tbody>\n",
       "    <tr>\n",
       "      <th>0</th>\n",
       "      <td>Afghanistan</td>\n",
       "      <td>Asia</td>\n",
       "      <td>Southern Asia</td>\n",
       "      <td>28.2</td>\n",
       "      <td>28.2</td>\n",
       "      <td>28.2</td>\n",
       "      <td>28.2</td>\n",
       "      <td>28.2</td>\n",
       "      <td>28.2</td>\n",
       "      <td>28.1</td>\n",
       "      <td>...</td>\n",
       "      <td>55.7</td>\n",
       "      <td>56.2</td>\n",
       "      <td>56.7</td>\n",
       "      <td>57.2</td>\n",
       "      <td>57.7</td>\n",
       "      <td>57.8</td>\n",
       "      <td>57.9</td>\n",
       "      <td>58.0</td>\n",
       "      <td>58.4</td>\n",
       "      <td>58.7</td>\n",
       "    </tr>\n",
       "    <tr>\n",
       "      <th>1</th>\n",
       "      <td>Albania</td>\n",
       "      <td>Europe</td>\n",
       "      <td>Southern Europe</td>\n",
       "      <td>35.4</td>\n",
       "      <td>35.4</td>\n",
       "      <td>35.4</td>\n",
       "      <td>35.4</td>\n",
       "      <td>35.4</td>\n",
       "      <td>35.4</td>\n",
       "      <td>35.4</td>\n",
       "      <td>...</td>\n",
       "      <td>75.9</td>\n",
       "      <td>76.3</td>\n",
       "      <td>76.7</td>\n",
       "      <td>77.0</td>\n",
       "      <td>77.2</td>\n",
       "      <td>77.4</td>\n",
       "      <td>77.6</td>\n",
       "      <td>77.7</td>\n",
       "      <td>77.9</td>\n",
       "      <td>78.0</td>\n",
       "    </tr>\n",
       "    <tr>\n",
       "      <th>2</th>\n",
       "      <td>Algeria</td>\n",
       "      <td>Africa</td>\n",
       "      <td>Northern Africa</td>\n",
       "      <td>28.8</td>\n",
       "      <td>28.8</td>\n",
       "      <td>28.8</td>\n",
       "      <td>28.8</td>\n",
       "      <td>28.8</td>\n",
       "      <td>28.8</td>\n",
       "      <td>28.8</td>\n",
       "      <td>...</td>\n",
       "      <td>76.3</td>\n",
       "      <td>76.5</td>\n",
       "      <td>76.7</td>\n",
       "      <td>76.8</td>\n",
       "      <td>77.0</td>\n",
       "      <td>77.1</td>\n",
       "      <td>77.3</td>\n",
       "      <td>77.4</td>\n",
       "      <td>77.6</td>\n",
       "      <td>77.9</td>\n",
       "    </tr>\n",
       "    <tr>\n",
       "      <th>3</th>\n",
       "      <td>Andorra</td>\n",
       "      <td>Europe</td>\n",
       "      <td>Southern Europe</td>\n",
       "      <td>NaN</td>\n",
       "      <td>NaN</td>\n",
       "      <td>NaN</td>\n",
       "      <td>NaN</td>\n",
       "      <td>NaN</td>\n",
       "      <td>NaN</td>\n",
       "      <td>NaN</td>\n",
       "      <td>...</td>\n",
       "      <td>82.7</td>\n",
       "      <td>82.7</td>\n",
       "      <td>82.6</td>\n",
       "      <td>82.6</td>\n",
       "      <td>82.6</td>\n",
       "      <td>82.6</td>\n",
       "      <td>82.5</td>\n",
       "      <td>82.5</td>\n",
       "      <td>NaN</td>\n",
       "      <td>NaN</td>\n",
       "    </tr>\n",
       "    <tr>\n",
       "      <th>4</th>\n",
       "      <td>Angola</td>\n",
       "      <td>Africa</td>\n",
       "      <td>Middle Africa</td>\n",
       "      <td>27.0</td>\n",
       "      <td>27.0</td>\n",
       "      <td>27.0</td>\n",
       "      <td>27.0</td>\n",
       "      <td>27.0</td>\n",
       "      <td>27.0</td>\n",
       "      <td>27.0</td>\n",
       "      <td>...</td>\n",
       "      <td>59.3</td>\n",
       "      <td>60.1</td>\n",
       "      <td>60.9</td>\n",
       "      <td>61.7</td>\n",
       "      <td>62.5</td>\n",
       "      <td>63.3</td>\n",
       "      <td>64.0</td>\n",
       "      <td>64.7</td>\n",
       "      <td>64.9</td>\n",
       "      <td>65.2</td>\n",
       "    </tr>\n",
       "  </tbody>\n",
       "</table>\n",
       "<p>5 rows × 222 columns</p>\n",
       "</div>"
      ],
      "text/plain": [
       "       country  region       sub-region  1800  1801  1802  1803  1804  1805  \\\n",
       "0  Afghanistan    Asia    Southern Asia  28.2  28.2  28.2  28.2  28.2  28.2   \n",
       "1      Albania  Europe  Southern Europe  35.4  35.4  35.4  35.4  35.4  35.4   \n",
       "2      Algeria  Africa  Northern Africa  28.8  28.8  28.8  28.8  28.8  28.8   \n",
       "3      Andorra  Europe  Southern Europe   NaN   NaN   NaN   NaN   NaN   NaN   \n",
       "4       Angola  Africa    Middle Africa  27.0  27.0  27.0  27.0  27.0  27.0   \n",
       "\n",
       "   1806  ...   2009  2010  2011  2012  2013  2014  2015  2016  2017  2018  \n",
       "0  28.1  ...   55.7  56.2  56.7  57.2  57.7  57.8  57.9  58.0  58.4  58.7  \n",
       "1  35.4  ...   75.9  76.3  76.7  77.0  77.2  77.4  77.6  77.7  77.9  78.0  \n",
       "2  28.8  ...   76.3  76.5  76.7  76.8  77.0  77.1  77.3  77.4  77.6  77.9  \n",
       "3   NaN  ...   82.7  82.7  82.6  82.6  82.6  82.6  82.5  82.5   NaN   NaN  \n",
       "4  27.0  ...   59.3  60.1  60.9  61.7  62.5  63.3  64.0  64.7  64.9  65.2  \n",
       "\n",
       "[5 rows x 222 columns]"
      ]
     },
     "execution_count": 65,
     "metadata": {},
     "output_type": "execute_result"
    }
   ],
   "source": [
    "life_expectancy.head()"
   ]
  },
  {
   "cell_type": "code",
   "execution_count": 66,
   "metadata": {
    "collapsed": true
   },
   "outputs": [],
   "source": [
    "co2_per_person=merge_with_country_code(co2_per_person)"
   ]
  },
  {
   "cell_type": "code",
   "execution_count": 67,
   "metadata": {},
   "outputs": [
    {
     "data": {
      "text/html": [
       "<div>\n",
       "<style scoped>\n",
       "    .dataframe tbody tr th:only-of-type {\n",
       "        vertical-align: middle;\n",
       "    }\n",
       "\n",
       "    .dataframe tbody tr th {\n",
       "        vertical-align: top;\n",
       "    }\n",
       "\n",
       "    .dataframe thead th {\n",
       "        text-align: right;\n",
       "    }\n",
       "</style>\n",
       "<table border=\"1\" class=\"dataframe\">\n",
       "  <thead>\n",
       "    <tr style=\"text-align: right;\">\n",
       "      <th></th>\n",
       "      <th>country</th>\n",
       "      <th>region</th>\n",
       "      <th>sub-region</th>\n",
       "      <th>1800</th>\n",
       "      <th>1801</th>\n",
       "      <th>1802</th>\n",
       "      <th>1803</th>\n",
       "      <th>1804</th>\n",
       "      <th>1805</th>\n",
       "      <th>1806</th>\n",
       "      <th>...</th>\n",
       "      <th>2005</th>\n",
       "      <th>2006</th>\n",
       "      <th>2007</th>\n",
       "      <th>2008</th>\n",
       "      <th>2009</th>\n",
       "      <th>2010</th>\n",
       "      <th>2011</th>\n",
       "      <th>2012</th>\n",
       "      <th>2013</th>\n",
       "      <th>2014</th>\n",
       "    </tr>\n",
       "  </thead>\n",
       "  <tbody>\n",
       "    <tr>\n",
       "      <th>0</th>\n",
       "      <td>Afghanistan</td>\n",
       "      <td>Asia</td>\n",
       "      <td>Southern Asia</td>\n",
       "      <td>NaN</td>\n",
       "      <td>NaN</td>\n",
       "      <td>NaN</td>\n",
       "      <td>NaN</td>\n",
       "      <td>NaN</td>\n",
       "      <td>NaN</td>\n",
       "      <td>NaN</td>\n",
       "      <td>...</td>\n",
       "      <td>0.0529</td>\n",
       "      <td>0.0637</td>\n",
       "      <td>0.0854</td>\n",
       "      <td>0.154</td>\n",
       "      <td>0.242</td>\n",
       "      <td>0.294</td>\n",
       "      <td>0.412</td>\n",
       "      <td>0.35</td>\n",
       "      <td>0.316</td>\n",
       "      <td>0.299</td>\n",
       "    </tr>\n",
       "    <tr>\n",
       "      <th>1</th>\n",
       "      <td>Albania</td>\n",
       "      <td>Europe</td>\n",
       "      <td>Southern Europe</td>\n",
       "      <td>NaN</td>\n",
       "      <td>NaN</td>\n",
       "      <td>NaN</td>\n",
       "      <td>NaN</td>\n",
       "      <td>NaN</td>\n",
       "      <td>NaN</td>\n",
       "      <td>NaN</td>\n",
       "      <td>...</td>\n",
       "      <td>1.3800</td>\n",
       "      <td>1.2800</td>\n",
       "      <td>1.3000</td>\n",
       "      <td>1.460</td>\n",
       "      <td>1.480</td>\n",
       "      <td>1.560</td>\n",
       "      <td>1.790</td>\n",
       "      <td>1.68</td>\n",
       "      <td>1.730</td>\n",
       "      <td>1.960</td>\n",
       "    </tr>\n",
       "    <tr>\n",
       "      <th>2</th>\n",
       "      <td>Algeria</td>\n",
       "      <td>Africa</td>\n",
       "      <td>Northern Africa</td>\n",
       "      <td>NaN</td>\n",
       "      <td>NaN</td>\n",
       "      <td>NaN</td>\n",
       "      <td>NaN</td>\n",
       "      <td>NaN</td>\n",
       "      <td>NaN</td>\n",
       "      <td>NaN</td>\n",
       "      <td>...</td>\n",
       "      <td>3.2200</td>\n",
       "      <td>2.9900</td>\n",
       "      <td>3.1900</td>\n",
       "      <td>3.160</td>\n",
       "      <td>3.420</td>\n",
       "      <td>3.300</td>\n",
       "      <td>3.290</td>\n",
       "      <td>3.46</td>\n",
       "      <td>3.510</td>\n",
       "      <td>3.720</td>\n",
       "    </tr>\n",
       "    <tr>\n",
       "      <th>3</th>\n",
       "      <td>Andorra</td>\n",
       "      <td>Europe</td>\n",
       "      <td>Southern Europe</td>\n",
       "      <td>NaN</td>\n",
       "      <td>NaN</td>\n",
       "      <td>NaN</td>\n",
       "      <td>NaN</td>\n",
       "      <td>NaN</td>\n",
       "      <td>NaN</td>\n",
       "      <td>NaN</td>\n",
       "      <td>...</td>\n",
       "      <td>7.3000</td>\n",
       "      <td>6.7500</td>\n",
       "      <td>6.5200</td>\n",
       "      <td>6.430</td>\n",
       "      <td>6.120</td>\n",
       "      <td>6.120</td>\n",
       "      <td>5.870</td>\n",
       "      <td>5.92</td>\n",
       "      <td>5.900</td>\n",
       "      <td>5.830</td>\n",
       "    </tr>\n",
       "    <tr>\n",
       "      <th>4</th>\n",
       "      <td>Angola</td>\n",
       "      <td>Africa</td>\n",
       "      <td>Middle Africa</td>\n",
       "      <td>NaN</td>\n",
       "      <td>NaN</td>\n",
       "      <td>NaN</td>\n",
       "      <td>NaN</td>\n",
       "      <td>NaN</td>\n",
       "      <td>NaN</td>\n",
       "      <td>NaN</td>\n",
       "      <td>...</td>\n",
       "      <td>0.9800</td>\n",
       "      <td>1.1000</td>\n",
       "      <td>1.2000</td>\n",
       "      <td>1.180</td>\n",
       "      <td>1.230</td>\n",
       "      <td>1.240</td>\n",
       "      <td>1.250</td>\n",
       "      <td>1.33</td>\n",
       "      <td>1.250</td>\n",
       "      <td>1.290</td>\n",
       "    </tr>\n",
       "  </tbody>\n",
       "</table>\n",
       "<p>5 rows × 218 columns</p>\n",
       "</div>"
      ],
      "text/plain": [
       "       country  region       sub-region  1800  1801  1802  1803  1804  1805  \\\n",
       "0  Afghanistan    Asia    Southern Asia   NaN   NaN   NaN   NaN   NaN   NaN   \n",
       "1      Albania  Europe  Southern Europe   NaN   NaN   NaN   NaN   NaN   NaN   \n",
       "2      Algeria  Africa  Northern Africa   NaN   NaN   NaN   NaN   NaN   NaN   \n",
       "3      Andorra  Europe  Southern Europe   NaN   NaN   NaN   NaN   NaN   NaN   \n",
       "4       Angola  Africa    Middle Africa   NaN   NaN   NaN   NaN   NaN   NaN   \n",
       "\n",
       "   1806  ...      2005    2006    2007   2008   2009   2010   2011  2012  \\\n",
       "0   NaN  ...    0.0529  0.0637  0.0854  0.154  0.242  0.294  0.412  0.35   \n",
       "1   NaN  ...    1.3800  1.2800  1.3000  1.460  1.480  1.560  1.790  1.68   \n",
       "2   NaN  ...    3.2200  2.9900  3.1900  3.160  3.420  3.300  3.290  3.46   \n",
       "3   NaN  ...    7.3000  6.7500  6.5200  6.430  6.120  6.120  5.870  5.92   \n",
       "4   NaN  ...    0.9800  1.1000  1.2000  1.180  1.230  1.240  1.250  1.33   \n",
       "\n",
       "    2013   2014  \n",
       "0  0.316  0.299  \n",
       "1  1.730  1.960  \n",
       "2  3.510  3.720  \n",
       "3  5.900  5.830  \n",
       "4  1.250  1.290  \n",
       "\n",
       "[5 rows x 218 columns]"
      ]
     },
     "execution_count": 67,
     "metadata": {},
     "output_type": "execute_result"
    }
   ],
   "source": [
    "co2_per_person.head()"
   ]
  },
  {
   "cell_type": "code",
   "execution_count": 68,
   "metadata": {
    "collapsed": true
   },
   "outputs": [],
   "source": [
    "#pandas_profiling.ProfileReport()\n",
    "#after combining the different datasets using melt and merge, use pandas profilling to get summary stats"
   ]
  },
  {
   "cell_type": "markdown",
   "metadata": {},
   "source": [
    "Sure enough, we can see from the first 5 rows of some of the datasets that there are missing valus represented by NaN. To get a scale of the amount of missing values in each dataset, we will find the number of missing values as apercentage of the total cells. In order to do this we call the ***percent_missing*** function for each dataset. "
   ]
  },
  {
   "cell_type": "code",
   "execution_count": 69,
   "metadata": {
    "collapsed": true
   },
   "outputs": [],
   "source": [
    "#create a list for all the dataframes we are using\n",
    "df_list=['income','co2_per_person','hdi','child_mortality','life_expectancy','self_employed']"
   ]
  },
  {
   "cell_type": "code",
   "execution_count": 70,
   "metadata": {},
   "outputs": [
    {
     "name": "stdout",
     "output_type": "stream",
     "text": [
      "0.00% of the income dataset is missing.\n",
      "58.63% of the co2_per_person dataset is missing.\n",
      "9.60% of the hdi dataset is missing.\n",
      "3.87% of the child_mortality dataset is missing.\n",
      "1.43% of the life_expectancy dataset is missing.\n",
      "0.00% of the self_employed dataset is missing.\n"
     ]
    }
   ],
   "source": [
    "for i in df_list:\n",
    "    percent_missing(eval(i),i)"
   ]
  },
  {
   "cell_type": "markdown",
   "metadata": {},
   "source": [
    "\n",
    "\n",
    "\n",
    "We are going to take a closer look at our dataset. A more effecient way to clean up the dataset will be to deal with each column(rows) with missing values and not by using dropna() or dropna(axis=1). "
   ]
  },
  {
   "cell_type": "markdown",
   "metadata": {},
   "source": [
    "### 3 DATA CLEANING\n",
    "### Dealing with missing data\n",
    "\n",
    "To deal with the missing data values in each dataframe, I used both approaches of ***Partial Deletion*** and ***Imputation***.\n",
    "\n",
    "The first method used for dealing with missing data values was partial deletion,and it involved limiting our dataset for analysis to the values that are available to us.\n",
    "\n",
    "All the Dataframes for each chosen indicator are alike in that, they have the some qualitative data varying per year, for each country in each dataframe. I used a variation of **listwise deletion**, a type of partial deletion, in each of the dataframes to remove countries that had too many missing data values to be statistically representative. In this case instead of deleting records that had only one value missing, I used a threshold.\n",
    ">The threshold I used to determine which countries I should drop is countries that had >= 50% complete data,\n",
    "or countries with **'Notnull_Density'** of **>=0.5** \n",
    "I am aware that choosing a Notnull_Density value as low 0.5 will affect the quality of the analysis, but I wanted to capture more countries.\n",
    ">Moreover, I noticed that most of the countries that have more complete data used an estimated value from 1800 to 1820."
   ]
  },
  {
   "cell_type": "markdown",
   "metadata": {},
   "source": [
    "In order to achieve this here are the steps we took.\n",
    "\n",
    "<Ul>\n",
    "    <li>Firstly, Make sure each dataframe is labeled appropriately</li>\n",
    "    <li>Then transform each dataframe so as to effectively calculate the Null density</li>\n",
    "    <li>For each dataframe, calculate the Null or NaN density using the dataframe and the transformed dataframe, then attach the Nan density to the dataframe</li>\n",
    "    <li>Drop the records that don't meet the threshold for each dataframe</li>\n",
    "    <li>For each dataframe, remove the the columes that aren't useful and Join the country_code dataframe</li>\n",
    "    <li>Imputation of missing data</li>\n",
    "    <li>Make sure all the dataframes have common countries</li>\n",
    "</Ul>"
   ]
  },
  {
   "cell_type": "markdown",
   "metadata": {},
   "source": [
    "#### 3.1 Rename the columes in the dataframe\n",
    "Most of the recent data from gapminder have been appropriately labeld thus we didn't need to perform this step"
   ]
  },
  {
   "cell_type": "markdown",
   "metadata": {},
   "source": [
    "#### 3.2 Treansofming the DataFrame\n",
    "Transform the pandas Dataframe for each of the Indicators to have years as rows and country as column "
   ]
  },
  {
   "cell_type": "code",
   "execution_count": 71,
   "metadata": {
    "collapsed": true
   },
   "outputs": [],
   "source": [
    "income_tf=transform_dataframe(income)"
   ]
  },
  {
   "cell_type": "code",
   "execution_count": 72,
   "metadata": {
    "collapsed": true
   },
   "outputs": [],
   "source": [
    "hdi_tf=transform_dataframe(hdi)"
   ]
  },
  {
   "cell_type": "code",
   "execution_count": 73,
   "metadata": {
    "collapsed": true
   },
   "outputs": [],
   "source": [
    "co2_per_person_tf=transform_dataframe(co2_per_person)"
   ]
  },
  {
   "cell_type": "code",
   "execution_count": 74,
   "metadata": {
    "collapsed": true
   },
   "outputs": [],
   "source": [
    "life_expectancy_tf=transform_dataframe(life_expectancy)"
   ]
  },
  {
   "cell_type": "code",
   "execution_count": 75,
   "metadata": {
    "collapsed": true
   },
   "outputs": [],
   "source": [
    "child_mortality_tf=transform_dataframe(child_mortality)"
   ]
  },
  {
   "cell_type": "code",
   "execution_count": 76,
   "metadata": {
    "collapsed": true
   },
   "outputs": [],
   "source": [
    "self_employed_tf=transform_dataframe(self_employed)"
   ]
  },
  {
   "cell_type": "markdown",
   "metadata": {},
   "source": [
    "#### 3.3 Calculate the NaN density\n",
    "Using the transformed dataframe and the original dataframe we can calculate the null density(the number of null values as a fraction of the total entries in that record). We then append the Null density to that dataframe. To achieve this we us the **df_null_density(df,df_transform)** function."
   ]
  },
  {
   "cell_type": "code",
   "execution_count": 77,
   "metadata": {
    "collapsed": true
   },
   "outputs": [],
   "source": [
    "df_income=df_null_density(income,income_tf)"
   ]
  },
  {
   "cell_type": "code",
   "execution_count": 78,
   "metadata": {},
   "outputs": [
    {
     "data": {
      "text/html": [
       "<div>\n",
       "<style scoped>\n",
       "    .dataframe tbody tr th:only-of-type {\n",
       "        vertical-align: middle;\n",
       "    }\n",
       "\n",
       "    .dataframe tbody tr th {\n",
       "        vertical-align: top;\n",
       "    }\n",
       "\n",
       "    .dataframe thead th {\n",
       "        text-align: right;\n",
       "    }\n",
       "</style>\n",
       "<table border=\"1\" class=\"dataframe\">\n",
       "  <thead>\n",
       "    <tr style=\"text-align: right;\">\n",
       "      <th></th>\n",
       "      <th>country</th>\n",
       "      <th>region</th>\n",
       "      <th>sub-region</th>\n",
       "      <th>1800</th>\n",
       "      <th>1801</th>\n",
       "      <th>1802</th>\n",
       "      <th>1803</th>\n",
       "      <th>1804</th>\n",
       "      <th>1805</th>\n",
       "      <th>1806</th>\n",
       "      <th>...</th>\n",
       "      <th>2036</th>\n",
       "      <th>2037</th>\n",
       "      <th>2038</th>\n",
       "      <th>2039</th>\n",
       "      <th>2040</th>\n",
       "      <th>Notnull_Sum</th>\n",
       "      <th>Isnull_Sum</th>\n",
       "      <th>Count</th>\n",
       "      <th>Isnull_Density</th>\n",
       "      <th>Notnull_Density</th>\n",
       "    </tr>\n",
       "  </thead>\n",
       "  <tbody>\n",
       "    <tr>\n",
       "      <th>0</th>\n",
       "      <td>Afghanistan</td>\n",
       "      <td>Asia</td>\n",
       "      <td>Southern Asia</td>\n",
       "      <td>603</td>\n",
       "      <td>603</td>\n",
       "      <td>603</td>\n",
       "      <td>603</td>\n",
       "      <td>603</td>\n",
       "      <td>603</td>\n",
       "      <td>603</td>\n",
       "      <td>...</td>\n",
       "      <td>2700</td>\n",
       "      <td>2760</td>\n",
       "      <td>2820</td>\n",
       "      <td>2880</td>\n",
       "      <td>2940</td>\n",
       "      <td>243</td>\n",
       "      <td>0</td>\n",
       "      <td>243</td>\n",
       "      <td>0.0</td>\n",
       "      <td>1.0</td>\n",
       "    </tr>\n",
       "    <tr>\n",
       "      <th>1</th>\n",
       "      <td>Albania</td>\n",
       "      <td>Europe</td>\n",
       "      <td>Southern Europe</td>\n",
       "      <td>667</td>\n",
       "      <td>667</td>\n",
       "      <td>667</td>\n",
       "      <td>667</td>\n",
       "      <td>667</td>\n",
       "      <td>668</td>\n",
       "      <td>668</td>\n",
       "      <td>...</td>\n",
       "      <td>20600</td>\n",
       "      <td>21100</td>\n",
       "      <td>21500</td>\n",
       "      <td>22000</td>\n",
       "      <td>22500</td>\n",
       "      <td>243</td>\n",
       "      <td>0</td>\n",
       "      <td>243</td>\n",
       "      <td>0.0</td>\n",
       "      <td>1.0</td>\n",
       "    </tr>\n",
       "    <tr>\n",
       "      <th>2</th>\n",
       "      <td>Algeria</td>\n",
       "      <td>Africa</td>\n",
       "      <td>Northern Africa</td>\n",
       "      <td>715</td>\n",
       "      <td>716</td>\n",
       "      <td>717</td>\n",
       "      <td>718</td>\n",
       "      <td>719</td>\n",
       "      <td>720</td>\n",
       "      <td>721</td>\n",
       "      <td>...</td>\n",
       "      <td>17400</td>\n",
       "      <td>17800</td>\n",
       "      <td>18200</td>\n",
       "      <td>18600</td>\n",
       "      <td>19000</td>\n",
       "      <td>243</td>\n",
       "      <td>0</td>\n",
       "      <td>243</td>\n",
       "      <td>0.0</td>\n",
       "      <td>1.0</td>\n",
       "    </tr>\n",
       "    <tr>\n",
       "      <th>3</th>\n",
       "      <td>Andorra</td>\n",
       "      <td>Europe</td>\n",
       "      <td>Southern Europe</td>\n",
       "      <td>1200</td>\n",
       "      <td>1200</td>\n",
       "      <td>1200</td>\n",
       "      <td>1200</td>\n",
       "      <td>1210</td>\n",
       "      <td>1210</td>\n",
       "      <td>1210</td>\n",
       "      <td>...</td>\n",
       "      <td>81600</td>\n",
       "      <td>83400</td>\n",
       "      <td>85300</td>\n",
       "      <td>87200</td>\n",
       "      <td>89100</td>\n",
       "      <td>243</td>\n",
       "      <td>0</td>\n",
       "      <td>243</td>\n",
       "      <td>0.0</td>\n",
       "      <td>1.0</td>\n",
       "    </tr>\n",
       "    <tr>\n",
       "      <th>4</th>\n",
       "      <td>Angola</td>\n",
       "      <td>Africa</td>\n",
       "      <td>Middle Africa</td>\n",
       "      <td>618</td>\n",
       "      <td>620</td>\n",
       "      <td>623</td>\n",
       "      <td>626</td>\n",
       "      <td>628</td>\n",
       "      <td>631</td>\n",
       "      <td>634</td>\n",
       "      <td>...</td>\n",
       "      <td>7000</td>\n",
       "      <td>7150</td>\n",
       "      <td>7310</td>\n",
       "      <td>7470</td>\n",
       "      <td>7640</td>\n",
       "      <td>243</td>\n",
       "      <td>0</td>\n",
       "      <td>243</td>\n",
       "      <td>0.0</td>\n",
       "      <td>1.0</td>\n",
       "    </tr>\n",
       "  </tbody>\n",
       "</table>\n",
       "<p>5 rows × 249 columns</p>\n",
       "</div>"
      ],
      "text/plain": [
       "       country  region       sub-region  1800  1801  1802  1803  1804  1805  \\\n",
       "0  Afghanistan    Asia    Southern Asia   603   603   603   603   603   603   \n",
       "1      Albania  Europe  Southern Europe   667   667   667   667   667   668   \n",
       "2      Algeria  Africa  Northern Africa   715   716   717   718   719   720   \n",
       "3      Andorra  Europe  Southern Europe  1200  1200  1200  1200  1210  1210   \n",
       "4       Angola  Africa    Middle Africa   618   620   623   626   628   631   \n",
       "\n",
       "   1806       ...          2036   2037   2038   2039   2040  Notnull_Sum  \\\n",
       "0   603       ...          2700   2760   2820   2880   2940          243   \n",
       "1   668       ...         20600  21100  21500  22000  22500          243   \n",
       "2   721       ...         17400  17800  18200  18600  19000          243   \n",
       "3  1210       ...         81600  83400  85300  87200  89100          243   \n",
       "4   634       ...          7000   7150   7310   7470   7640          243   \n",
       "\n",
       "   Isnull_Sum  Count  Isnull_Density  Notnull_Density  \n",
       "0           0    243             0.0              1.0  \n",
       "1           0    243             0.0              1.0  \n",
       "2           0    243             0.0              1.0  \n",
       "3           0    243             0.0              1.0  \n",
       "4           0    243             0.0              1.0  \n",
       "\n",
       "[5 rows x 249 columns]"
      ]
     },
     "execution_count": 78,
     "metadata": {},
     "output_type": "execute_result"
    }
   ],
   "source": [
    "df_income.head()"
   ]
  },
  {
   "cell_type": "code",
   "execution_count": 79,
   "metadata": {
    "collapsed": true
   },
   "outputs": [],
   "source": [
    "df_hdi=df_null_density(hdi,hdi_tf)"
   ]
  },
  {
   "cell_type": "code",
   "execution_count": 80,
   "metadata": {},
   "outputs": [
    {
     "data": {
      "text/html": [
       "<div>\n",
       "<style scoped>\n",
       "    .dataframe tbody tr th:only-of-type {\n",
       "        vertical-align: middle;\n",
       "    }\n",
       "\n",
       "    .dataframe tbody tr th {\n",
       "        vertical-align: top;\n",
       "    }\n",
       "\n",
       "    .dataframe thead th {\n",
       "        text-align: right;\n",
       "    }\n",
       "</style>\n",
       "<table border=\"1\" class=\"dataframe\">\n",
       "  <thead>\n",
       "    <tr style=\"text-align: right;\">\n",
       "      <th></th>\n",
       "      <th>country</th>\n",
       "      <th>region</th>\n",
       "      <th>sub-region</th>\n",
       "      <th>1990</th>\n",
       "      <th>1991</th>\n",
       "      <th>1992</th>\n",
       "      <th>1993</th>\n",
       "      <th>1994</th>\n",
       "      <th>1995</th>\n",
       "      <th>1996</th>\n",
       "      <th>...</th>\n",
       "      <th>2011</th>\n",
       "      <th>2012</th>\n",
       "      <th>2013</th>\n",
       "      <th>2014</th>\n",
       "      <th>2015</th>\n",
       "      <th>Notnull_Sum</th>\n",
       "      <th>Isnull_Sum</th>\n",
       "      <th>Count</th>\n",
       "      <th>Isnull_Density</th>\n",
       "      <th>Notnull_Density</th>\n",
       "    </tr>\n",
       "  </thead>\n",
       "  <tbody>\n",
       "    <tr>\n",
       "      <th>0</th>\n",
       "      <td>Afghanistan</td>\n",
       "      <td>Asia</td>\n",
       "      <td>Southern Asia</td>\n",
       "      <td>0.295</td>\n",
       "      <td>0.300</td>\n",
       "      <td>0.309</td>\n",
       "      <td>0.305</td>\n",
       "      <td>0.300</td>\n",
       "      <td>0.324</td>\n",
       "      <td>0.328</td>\n",
       "      <td>...</td>\n",
       "      <td>0.463</td>\n",
       "      <td>0.470</td>\n",
       "      <td>0.476</td>\n",
       "      <td>0.479</td>\n",
       "      <td>0.479</td>\n",
       "      <td>28</td>\n",
       "      <td>0</td>\n",
       "      <td>28</td>\n",
       "      <td>0.000000</td>\n",
       "      <td>1.000000</td>\n",
       "    </tr>\n",
       "    <tr>\n",
       "      <th>1</th>\n",
       "      <td>Albania</td>\n",
       "      <td>Europe</td>\n",
       "      <td>Southern Europe</td>\n",
       "      <td>0.635</td>\n",
       "      <td>0.618</td>\n",
       "      <td>0.603</td>\n",
       "      <td>0.608</td>\n",
       "      <td>0.616</td>\n",
       "      <td>0.628</td>\n",
       "      <td>0.637</td>\n",
       "      <td>...</td>\n",
       "      <td>0.752</td>\n",
       "      <td>0.759</td>\n",
       "      <td>0.761</td>\n",
       "      <td>0.762</td>\n",
       "      <td>0.764</td>\n",
       "      <td>28</td>\n",
       "      <td>0</td>\n",
       "      <td>28</td>\n",
       "      <td>0.000000</td>\n",
       "      <td>1.000000</td>\n",
       "    </tr>\n",
       "    <tr>\n",
       "      <th>2</th>\n",
       "      <td>Algeria</td>\n",
       "      <td>Africa</td>\n",
       "      <td>Northern Africa</td>\n",
       "      <td>0.577</td>\n",
       "      <td>0.581</td>\n",
       "      <td>0.587</td>\n",
       "      <td>0.591</td>\n",
       "      <td>0.595</td>\n",
       "      <td>0.600</td>\n",
       "      <td>0.609</td>\n",
       "      <td>...</td>\n",
       "      <td>0.732</td>\n",
       "      <td>0.737</td>\n",
       "      <td>0.741</td>\n",
       "      <td>0.743</td>\n",
       "      <td>0.745</td>\n",
       "      <td>28</td>\n",
       "      <td>0</td>\n",
       "      <td>28</td>\n",
       "      <td>0.000000</td>\n",
       "      <td>1.000000</td>\n",
       "    </tr>\n",
       "    <tr>\n",
       "      <th>3</th>\n",
       "      <td>Andorra</td>\n",
       "      <td>Europe</td>\n",
       "      <td>Southern Europe</td>\n",
       "      <td>NaN</td>\n",
       "      <td>NaN</td>\n",
       "      <td>NaN</td>\n",
       "      <td>NaN</td>\n",
       "      <td>NaN</td>\n",
       "      <td>NaN</td>\n",
       "      <td>NaN</td>\n",
       "      <td>...</td>\n",
       "      <td>0.819</td>\n",
       "      <td>0.843</td>\n",
       "      <td>0.850</td>\n",
       "      <td>0.857</td>\n",
       "      <td>0.858</td>\n",
       "      <td>8</td>\n",
       "      <td>20</td>\n",
       "      <td>28</td>\n",
       "      <td>0.714286</td>\n",
       "      <td>0.285714</td>\n",
       "    </tr>\n",
       "    <tr>\n",
       "      <th>4</th>\n",
       "      <td>Angola</td>\n",
       "      <td>Africa</td>\n",
       "      <td>Middle Africa</td>\n",
       "      <td>NaN</td>\n",
       "      <td>NaN</td>\n",
       "      <td>NaN</td>\n",
       "      <td>NaN</td>\n",
       "      <td>NaN</td>\n",
       "      <td>NaN</td>\n",
       "      <td>NaN</td>\n",
       "      <td>...</td>\n",
       "      <td>0.508</td>\n",
       "      <td>0.523</td>\n",
       "      <td>0.527</td>\n",
       "      <td>0.531</td>\n",
       "      <td>0.533</td>\n",
       "      <td>19</td>\n",
       "      <td>9</td>\n",
       "      <td>28</td>\n",
       "      <td>0.321429</td>\n",
       "      <td>0.678571</td>\n",
       "    </tr>\n",
       "  </tbody>\n",
       "</table>\n",
       "<p>5 rows × 34 columns</p>\n",
       "</div>"
      ],
      "text/plain": [
       "       country  region       sub-region   1990   1991   1992   1993   1994  \\\n",
       "0  Afghanistan    Asia    Southern Asia  0.295  0.300  0.309  0.305  0.300   \n",
       "1      Albania  Europe  Southern Europe  0.635  0.618  0.603  0.608  0.616   \n",
       "2      Algeria  Africa  Northern Africa  0.577  0.581  0.587  0.591  0.595   \n",
       "3      Andorra  Europe  Southern Europe    NaN    NaN    NaN    NaN    NaN   \n",
       "4       Angola  Africa    Middle Africa    NaN    NaN    NaN    NaN    NaN   \n",
       "\n",
       "    1995   1996       ...          2011   2012   2013   2014   2015  \\\n",
       "0  0.324  0.328       ...         0.463  0.470  0.476  0.479  0.479   \n",
       "1  0.628  0.637       ...         0.752  0.759  0.761  0.762  0.764   \n",
       "2  0.600  0.609       ...         0.732  0.737  0.741  0.743  0.745   \n",
       "3    NaN    NaN       ...         0.819  0.843  0.850  0.857  0.858   \n",
       "4    NaN    NaN       ...         0.508  0.523  0.527  0.531  0.533   \n",
       "\n",
       "   Notnull_Sum  Isnull_Sum  Count  Isnull_Density  Notnull_Density  \n",
       "0           28           0     28        0.000000         1.000000  \n",
       "1           28           0     28        0.000000         1.000000  \n",
       "2           28           0     28        0.000000         1.000000  \n",
       "3            8          20     28        0.714286         0.285714  \n",
       "4           19           9     28        0.321429         0.678571  \n",
       "\n",
       "[5 rows x 34 columns]"
      ]
     },
     "execution_count": 80,
     "metadata": {},
     "output_type": "execute_result"
    }
   ],
   "source": [
    "df_hdi.head()"
   ]
  },
  {
   "cell_type": "code",
   "execution_count": 81,
   "metadata": {
    "collapsed": true
   },
   "outputs": [],
   "source": [
    "df_co2_per_person=df_null_density(co2_per_person,co2_per_person_tf)"
   ]
  },
  {
   "cell_type": "code",
   "execution_count": 82,
   "metadata": {},
   "outputs": [
    {
     "data": {
      "text/html": [
       "<div>\n",
       "<style scoped>\n",
       "    .dataframe tbody tr th:only-of-type {\n",
       "        vertical-align: middle;\n",
       "    }\n",
       "\n",
       "    .dataframe tbody tr th {\n",
       "        vertical-align: top;\n",
       "    }\n",
       "\n",
       "    .dataframe thead th {\n",
       "        text-align: right;\n",
       "    }\n",
       "</style>\n",
       "<table border=\"1\" class=\"dataframe\">\n",
       "  <thead>\n",
       "    <tr style=\"text-align: right;\">\n",
       "      <th></th>\n",
       "      <th>country</th>\n",
       "      <th>region</th>\n",
       "      <th>sub-region</th>\n",
       "      <th>1800</th>\n",
       "      <th>1801</th>\n",
       "      <th>1802</th>\n",
       "      <th>1803</th>\n",
       "      <th>1804</th>\n",
       "      <th>1805</th>\n",
       "      <th>1806</th>\n",
       "      <th>...</th>\n",
       "      <th>2010</th>\n",
       "      <th>2011</th>\n",
       "      <th>2012</th>\n",
       "      <th>2013</th>\n",
       "      <th>2014</th>\n",
       "      <th>Notnull_Sum</th>\n",
       "      <th>Isnull_Sum</th>\n",
       "      <th>Count</th>\n",
       "      <th>Isnull_Density</th>\n",
       "      <th>Notnull_Density</th>\n",
       "    </tr>\n",
       "  </thead>\n",
       "  <tbody>\n",
       "    <tr>\n",
       "      <th>0</th>\n",
       "      <td>Afghanistan</td>\n",
       "      <td>Asia</td>\n",
       "      <td>Southern Asia</td>\n",
       "      <td>NaN</td>\n",
       "      <td>NaN</td>\n",
       "      <td>NaN</td>\n",
       "      <td>NaN</td>\n",
       "      <td>NaN</td>\n",
       "      <td>NaN</td>\n",
       "      <td>NaN</td>\n",
       "      <td>...</td>\n",
       "      <td>0.294</td>\n",
       "      <td>0.412</td>\n",
       "      <td>0.35</td>\n",
       "      <td>0.316</td>\n",
       "      <td>0.299</td>\n",
       "      <td>68</td>\n",
       "      <td>149</td>\n",
       "      <td>217</td>\n",
       "      <td>0.686636</td>\n",
       "      <td>0.313364</td>\n",
       "    </tr>\n",
       "    <tr>\n",
       "      <th>1</th>\n",
       "      <td>Albania</td>\n",
       "      <td>Europe</td>\n",
       "      <td>Southern Europe</td>\n",
       "      <td>NaN</td>\n",
       "      <td>NaN</td>\n",
       "      <td>NaN</td>\n",
       "      <td>NaN</td>\n",
       "      <td>NaN</td>\n",
       "      <td>NaN</td>\n",
       "      <td>NaN</td>\n",
       "      <td>...</td>\n",
       "      <td>1.560</td>\n",
       "      <td>1.790</td>\n",
       "      <td>1.68</td>\n",
       "      <td>1.730</td>\n",
       "      <td>1.960</td>\n",
       "      <td>84</td>\n",
       "      <td>133</td>\n",
       "      <td>217</td>\n",
       "      <td>0.612903</td>\n",
       "      <td>0.387097</td>\n",
       "    </tr>\n",
       "    <tr>\n",
       "      <th>2</th>\n",
       "      <td>Algeria</td>\n",
       "      <td>Africa</td>\n",
       "      <td>Northern Africa</td>\n",
       "      <td>NaN</td>\n",
       "      <td>NaN</td>\n",
       "      <td>NaN</td>\n",
       "      <td>NaN</td>\n",
       "      <td>NaN</td>\n",
       "      <td>NaN</td>\n",
       "      <td>NaN</td>\n",
       "      <td>...</td>\n",
       "      <td>3.300</td>\n",
       "      <td>3.290</td>\n",
       "      <td>3.46</td>\n",
       "      <td>3.510</td>\n",
       "      <td>3.720</td>\n",
       "      <td>107</td>\n",
       "      <td>110</td>\n",
       "      <td>217</td>\n",
       "      <td>0.506912</td>\n",
       "      <td>0.493088</td>\n",
       "    </tr>\n",
       "    <tr>\n",
       "      <th>3</th>\n",
       "      <td>Andorra</td>\n",
       "      <td>Europe</td>\n",
       "      <td>Southern Europe</td>\n",
       "      <td>NaN</td>\n",
       "      <td>NaN</td>\n",
       "      <td>NaN</td>\n",
       "      <td>NaN</td>\n",
       "      <td>NaN</td>\n",
       "      <td>NaN</td>\n",
       "      <td>NaN</td>\n",
       "      <td>...</td>\n",
       "      <td>6.120</td>\n",
       "      <td>5.870</td>\n",
       "      <td>5.92</td>\n",
       "      <td>5.900</td>\n",
       "      <td>5.830</td>\n",
       "      <td>27</td>\n",
       "      <td>190</td>\n",
       "      <td>217</td>\n",
       "      <td>0.875576</td>\n",
       "      <td>0.124424</td>\n",
       "    </tr>\n",
       "    <tr>\n",
       "      <th>4</th>\n",
       "      <td>Angola</td>\n",
       "      <td>Africa</td>\n",
       "      <td>Middle Africa</td>\n",
       "      <td>NaN</td>\n",
       "      <td>NaN</td>\n",
       "      <td>NaN</td>\n",
       "      <td>NaN</td>\n",
       "      <td>NaN</td>\n",
       "      <td>NaN</td>\n",
       "      <td>NaN</td>\n",
       "      <td>...</td>\n",
       "      <td>1.240</td>\n",
       "      <td>1.250</td>\n",
       "      <td>1.33</td>\n",
       "      <td>1.250</td>\n",
       "      <td>1.290</td>\n",
       "      <td>67</td>\n",
       "      <td>150</td>\n",
       "      <td>217</td>\n",
       "      <td>0.691244</td>\n",
       "      <td>0.308756</td>\n",
       "    </tr>\n",
       "  </tbody>\n",
       "</table>\n",
       "<p>5 rows × 223 columns</p>\n",
       "</div>"
      ],
      "text/plain": [
       "       country  region       sub-region  1800  1801  1802  1803  1804  1805  \\\n",
       "0  Afghanistan    Asia    Southern Asia   NaN   NaN   NaN   NaN   NaN   NaN   \n",
       "1      Albania  Europe  Southern Europe   NaN   NaN   NaN   NaN   NaN   NaN   \n",
       "2      Algeria  Africa  Northern Africa   NaN   NaN   NaN   NaN   NaN   NaN   \n",
       "3      Andorra  Europe  Southern Europe   NaN   NaN   NaN   NaN   NaN   NaN   \n",
       "4       Angola  Africa    Middle Africa   NaN   NaN   NaN   NaN   NaN   NaN   \n",
       "\n",
       "   1806       ...          2010   2011  2012   2013   2014  Notnull_Sum  \\\n",
       "0   NaN       ...         0.294  0.412  0.35  0.316  0.299           68   \n",
       "1   NaN       ...         1.560  1.790  1.68  1.730  1.960           84   \n",
       "2   NaN       ...         3.300  3.290  3.46  3.510  3.720          107   \n",
       "3   NaN       ...         6.120  5.870  5.92  5.900  5.830           27   \n",
       "4   NaN       ...         1.240  1.250  1.33  1.250  1.290           67   \n",
       "\n",
       "   Isnull_Sum  Count  Isnull_Density  Notnull_Density  \n",
       "0         149    217        0.686636         0.313364  \n",
       "1         133    217        0.612903         0.387097  \n",
       "2         110    217        0.506912         0.493088  \n",
       "3         190    217        0.875576         0.124424  \n",
       "4         150    217        0.691244         0.308756  \n",
       "\n",
       "[5 rows x 223 columns]"
      ]
     },
     "execution_count": 82,
     "metadata": {},
     "output_type": "execute_result"
    }
   ],
   "source": [
    "df_co2_per_person.head()"
   ]
  },
  {
   "cell_type": "code",
   "execution_count": 83,
   "metadata": {
    "collapsed": true
   },
   "outputs": [],
   "source": [
    "df_life_expectancy=df_null_density(life_expectancy,life_expectancy_tf)"
   ]
  },
  {
   "cell_type": "code",
   "execution_count": 84,
   "metadata": {},
   "outputs": [
    {
     "data": {
      "text/html": [
       "<div>\n",
       "<style scoped>\n",
       "    .dataframe tbody tr th:only-of-type {\n",
       "        vertical-align: middle;\n",
       "    }\n",
       "\n",
       "    .dataframe tbody tr th {\n",
       "        vertical-align: top;\n",
       "    }\n",
       "\n",
       "    .dataframe thead th {\n",
       "        text-align: right;\n",
       "    }\n",
       "</style>\n",
       "<table border=\"1\" class=\"dataframe\">\n",
       "  <thead>\n",
       "    <tr style=\"text-align: right;\">\n",
       "      <th></th>\n",
       "      <th>country</th>\n",
       "      <th>region</th>\n",
       "      <th>sub-region</th>\n",
       "      <th>1800</th>\n",
       "      <th>1801</th>\n",
       "      <th>1802</th>\n",
       "      <th>1803</th>\n",
       "      <th>1804</th>\n",
       "      <th>1805</th>\n",
       "      <th>1806</th>\n",
       "      <th>...</th>\n",
       "      <th>2014</th>\n",
       "      <th>2015</th>\n",
       "      <th>2016</th>\n",
       "      <th>2017</th>\n",
       "      <th>2018</th>\n",
       "      <th>Notnull_Sum</th>\n",
       "      <th>Isnull_Sum</th>\n",
       "      <th>Count</th>\n",
       "      <th>Isnull_Density</th>\n",
       "      <th>Notnull_Density</th>\n",
       "    </tr>\n",
       "  </thead>\n",
       "  <tbody>\n",
       "    <tr>\n",
       "      <th>0</th>\n",
       "      <td>Afghanistan</td>\n",
       "      <td>Asia</td>\n",
       "      <td>Southern Asia</td>\n",
       "      <td>28.2</td>\n",
       "      <td>28.2</td>\n",
       "      <td>28.2</td>\n",
       "      <td>28.2</td>\n",
       "      <td>28.2</td>\n",
       "      <td>28.2</td>\n",
       "      <td>28.1</td>\n",
       "      <td>...</td>\n",
       "      <td>57.8</td>\n",
       "      <td>57.9</td>\n",
       "      <td>58.0</td>\n",
       "      <td>58.4</td>\n",
       "      <td>58.7</td>\n",
       "      <td>221</td>\n",
       "      <td>0</td>\n",
       "      <td>221</td>\n",
       "      <td>0.000000</td>\n",
       "      <td>1.000000</td>\n",
       "    </tr>\n",
       "    <tr>\n",
       "      <th>1</th>\n",
       "      <td>Albania</td>\n",
       "      <td>Europe</td>\n",
       "      <td>Southern Europe</td>\n",
       "      <td>35.4</td>\n",
       "      <td>35.4</td>\n",
       "      <td>35.4</td>\n",
       "      <td>35.4</td>\n",
       "      <td>35.4</td>\n",
       "      <td>35.4</td>\n",
       "      <td>35.4</td>\n",
       "      <td>...</td>\n",
       "      <td>77.4</td>\n",
       "      <td>77.6</td>\n",
       "      <td>77.7</td>\n",
       "      <td>77.9</td>\n",
       "      <td>78.0</td>\n",
       "      <td>221</td>\n",
       "      <td>0</td>\n",
       "      <td>221</td>\n",
       "      <td>0.000000</td>\n",
       "      <td>1.000000</td>\n",
       "    </tr>\n",
       "    <tr>\n",
       "      <th>2</th>\n",
       "      <td>Algeria</td>\n",
       "      <td>Africa</td>\n",
       "      <td>Northern Africa</td>\n",
       "      <td>28.8</td>\n",
       "      <td>28.8</td>\n",
       "      <td>28.8</td>\n",
       "      <td>28.8</td>\n",
       "      <td>28.8</td>\n",
       "      <td>28.8</td>\n",
       "      <td>28.8</td>\n",
       "      <td>...</td>\n",
       "      <td>77.1</td>\n",
       "      <td>77.3</td>\n",
       "      <td>77.4</td>\n",
       "      <td>77.6</td>\n",
       "      <td>77.9</td>\n",
       "      <td>221</td>\n",
       "      <td>0</td>\n",
       "      <td>221</td>\n",
       "      <td>0.000000</td>\n",
       "      <td>1.000000</td>\n",
       "    </tr>\n",
       "    <tr>\n",
       "      <th>3</th>\n",
       "      <td>Andorra</td>\n",
       "      <td>Europe</td>\n",
       "      <td>Southern Europe</td>\n",
       "      <td>NaN</td>\n",
       "      <td>NaN</td>\n",
       "      <td>NaN</td>\n",
       "      <td>NaN</td>\n",
       "      <td>NaN</td>\n",
       "      <td>NaN</td>\n",
       "      <td>NaN</td>\n",
       "      <td>...</td>\n",
       "      <td>82.6</td>\n",
       "      <td>82.5</td>\n",
       "      <td>82.5</td>\n",
       "      <td>NaN</td>\n",
       "      <td>NaN</td>\n",
       "      <td>49</td>\n",
       "      <td>172</td>\n",
       "      <td>221</td>\n",
       "      <td>0.778281</td>\n",
       "      <td>0.221719</td>\n",
       "    </tr>\n",
       "    <tr>\n",
       "      <th>4</th>\n",
       "      <td>Angola</td>\n",
       "      <td>Africa</td>\n",
       "      <td>Middle Africa</td>\n",
       "      <td>27.0</td>\n",
       "      <td>27.0</td>\n",
       "      <td>27.0</td>\n",
       "      <td>27.0</td>\n",
       "      <td>27.0</td>\n",
       "      <td>27.0</td>\n",
       "      <td>27.0</td>\n",
       "      <td>...</td>\n",
       "      <td>63.3</td>\n",
       "      <td>64.0</td>\n",
       "      <td>64.7</td>\n",
       "      <td>64.9</td>\n",
       "      <td>65.2</td>\n",
       "      <td>221</td>\n",
       "      <td>0</td>\n",
       "      <td>221</td>\n",
       "      <td>0.000000</td>\n",
       "      <td>1.000000</td>\n",
       "    </tr>\n",
       "  </tbody>\n",
       "</table>\n",
       "<p>5 rows × 227 columns</p>\n",
       "</div>"
      ],
      "text/plain": [
       "       country  region       sub-region  1800  1801  1802  1803  1804  1805  \\\n",
       "0  Afghanistan    Asia    Southern Asia  28.2  28.2  28.2  28.2  28.2  28.2   \n",
       "1      Albania  Europe  Southern Europe  35.4  35.4  35.4  35.4  35.4  35.4   \n",
       "2      Algeria  Africa  Northern Africa  28.8  28.8  28.8  28.8  28.8  28.8   \n",
       "3      Andorra  Europe  Southern Europe   NaN   NaN   NaN   NaN   NaN   NaN   \n",
       "4       Angola  Africa    Middle Africa  27.0  27.0  27.0  27.0  27.0  27.0   \n",
       "\n",
       "   1806       ...         2014  2015  2016  2017  2018  Notnull_Sum  \\\n",
       "0  28.1       ...         57.8  57.9  58.0  58.4  58.7          221   \n",
       "1  35.4       ...         77.4  77.6  77.7  77.9  78.0          221   \n",
       "2  28.8       ...         77.1  77.3  77.4  77.6  77.9          221   \n",
       "3   NaN       ...         82.6  82.5  82.5   NaN   NaN           49   \n",
       "4  27.0       ...         63.3  64.0  64.7  64.9  65.2          221   \n",
       "\n",
       "   Isnull_Sum  Count  Isnull_Density  Notnull_Density  \n",
       "0           0    221        0.000000         1.000000  \n",
       "1           0    221        0.000000         1.000000  \n",
       "2           0    221        0.000000         1.000000  \n",
       "3         172    221        0.778281         0.221719  \n",
       "4           0    221        0.000000         1.000000  \n",
       "\n",
       "[5 rows x 227 columns]"
      ]
     },
     "execution_count": 84,
     "metadata": {},
     "output_type": "execute_result"
    }
   ],
   "source": [
    "df_life_expectancy.head()"
   ]
  },
  {
   "cell_type": "code",
   "execution_count": 85,
   "metadata": {
    "collapsed": true
   },
   "outputs": [],
   "source": [
    "df_child_mortality=df_null_density(child_mortality,child_mortality_tf)"
   ]
  },
  {
   "cell_type": "code",
   "execution_count": 86,
   "metadata": {},
   "outputs": [
    {
     "data": {
      "text/html": [
       "<div>\n",
       "<style scoped>\n",
       "    .dataframe tbody tr th:only-of-type {\n",
       "        vertical-align: middle;\n",
       "    }\n",
       "\n",
       "    .dataframe tbody tr th {\n",
       "        vertical-align: top;\n",
       "    }\n",
       "\n",
       "    .dataframe thead th {\n",
       "        text-align: right;\n",
       "    }\n",
       "</style>\n",
       "<table border=\"1\" class=\"dataframe\">\n",
       "  <thead>\n",
       "    <tr style=\"text-align: right;\">\n",
       "      <th></th>\n",
       "      <th>country</th>\n",
       "      <th>region</th>\n",
       "      <th>sub-region</th>\n",
       "      <th>1800</th>\n",
       "      <th>1801</th>\n",
       "      <th>1802</th>\n",
       "      <th>1803</th>\n",
       "      <th>1804</th>\n",
       "      <th>1805</th>\n",
       "      <th>1806</th>\n",
       "      <th>...</th>\n",
       "      <th>2014</th>\n",
       "      <th>2015</th>\n",
       "      <th>2016</th>\n",
       "      <th>2017</th>\n",
       "      <th>2018</th>\n",
       "      <th>Notnull_Sum</th>\n",
       "      <th>Isnull_Sum</th>\n",
       "      <th>Count</th>\n",
       "      <th>Isnull_Density</th>\n",
       "      <th>Notnull_Density</th>\n",
       "    </tr>\n",
       "  </thead>\n",
       "  <tbody>\n",
       "    <tr>\n",
       "      <th>0</th>\n",
       "      <td>Afghanistan</td>\n",
       "      <td>Asia</td>\n",
       "      <td>Southern Asia</td>\n",
       "      <td>469.0</td>\n",
       "      <td>469.0</td>\n",
       "      <td>469.0</td>\n",
       "      <td>469.0</td>\n",
       "      <td>469.0</td>\n",
       "      <td>469.0</td>\n",
       "      <td>470.0</td>\n",
       "      <td>...</td>\n",
       "      <td>76.1</td>\n",
       "      <td>73.2</td>\n",
       "      <td>70.4</td>\n",
       "      <td>68.2</td>\n",
       "      <td>65.9</td>\n",
       "      <td>221</td>\n",
       "      <td>0</td>\n",
       "      <td>221</td>\n",
       "      <td>0.000000</td>\n",
       "      <td>1.000000</td>\n",
       "    </tr>\n",
       "    <tr>\n",
       "      <th>1</th>\n",
       "      <td>Albania</td>\n",
       "      <td>Europe</td>\n",
       "      <td>Southern Europe</td>\n",
       "      <td>375.0</td>\n",
       "      <td>375.0</td>\n",
       "      <td>375.0</td>\n",
       "      <td>375.0</td>\n",
       "      <td>375.0</td>\n",
       "      <td>375.0</td>\n",
       "      <td>375.0</td>\n",
       "      <td>...</td>\n",
       "      <td>14.4</td>\n",
       "      <td>14.0</td>\n",
       "      <td>13.5</td>\n",
       "      <td>13.3</td>\n",
       "      <td>12.9</td>\n",
       "      <td>221</td>\n",
       "      <td>0</td>\n",
       "      <td>221</td>\n",
       "      <td>0.000000</td>\n",
       "      <td>1.000000</td>\n",
       "    </tr>\n",
       "    <tr>\n",
       "      <th>2</th>\n",
       "      <td>Algeria</td>\n",
       "      <td>Africa</td>\n",
       "      <td>Northern Africa</td>\n",
       "      <td>460.0</td>\n",
       "      <td>460.0</td>\n",
       "      <td>460.0</td>\n",
       "      <td>460.0</td>\n",
       "      <td>460.0</td>\n",
       "      <td>460.0</td>\n",
       "      <td>460.0</td>\n",
       "      <td>...</td>\n",
       "      <td>25.6</td>\n",
       "      <td>25.5</td>\n",
       "      <td>25.2</td>\n",
       "      <td>23.9</td>\n",
       "      <td>23.1</td>\n",
       "      <td>221</td>\n",
       "      <td>0</td>\n",
       "      <td>221</td>\n",
       "      <td>0.000000</td>\n",
       "      <td>1.000000</td>\n",
       "    </tr>\n",
       "    <tr>\n",
       "      <th>3</th>\n",
       "      <td>Andorra</td>\n",
       "      <td>Europe</td>\n",
       "      <td>Southern Europe</td>\n",
       "      <td>NaN</td>\n",
       "      <td>NaN</td>\n",
       "      <td>NaN</td>\n",
       "      <td>NaN</td>\n",
       "      <td>NaN</td>\n",
       "      <td>NaN</td>\n",
       "      <td>NaN</td>\n",
       "      <td>...</td>\n",
       "      <td>2.9</td>\n",
       "      <td>2.8</td>\n",
       "      <td>2.7</td>\n",
       "      <td>NaN</td>\n",
       "      <td>NaN</td>\n",
       "      <td>34</td>\n",
       "      <td>187</td>\n",
       "      <td>221</td>\n",
       "      <td>0.846154</td>\n",
       "      <td>0.153846</td>\n",
       "    </tr>\n",
       "    <tr>\n",
       "      <th>4</th>\n",
       "      <td>Angola</td>\n",
       "      <td>Africa</td>\n",
       "      <td>Middle Africa</td>\n",
       "      <td>486.0</td>\n",
       "      <td>486.0</td>\n",
       "      <td>486.0</td>\n",
       "      <td>486.0</td>\n",
       "      <td>486.0</td>\n",
       "      <td>486.0</td>\n",
       "      <td>486.0</td>\n",
       "      <td>...</td>\n",
       "      <td>91.2</td>\n",
       "      <td>86.5</td>\n",
       "      <td>82.5</td>\n",
       "      <td>83.1</td>\n",
       "      <td>81.6</td>\n",
       "      <td>221</td>\n",
       "      <td>0</td>\n",
       "      <td>221</td>\n",
       "      <td>0.000000</td>\n",
       "      <td>1.000000</td>\n",
       "    </tr>\n",
       "  </tbody>\n",
       "</table>\n",
       "<p>5 rows × 227 columns</p>\n",
       "</div>"
      ],
      "text/plain": [
       "       country  region       sub-region   1800   1801   1802   1803   1804  \\\n",
       "0  Afghanistan    Asia    Southern Asia  469.0  469.0  469.0  469.0  469.0   \n",
       "1      Albania  Europe  Southern Europe  375.0  375.0  375.0  375.0  375.0   \n",
       "2      Algeria  Africa  Northern Africa  460.0  460.0  460.0  460.0  460.0   \n",
       "3      Andorra  Europe  Southern Europe    NaN    NaN    NaN    NaN    NaN   \n",
       "4       Angola  Africa    Middle Africa  486.0  486.0  486.0  486.0  486.0   \n",
       "\n",
       "    1805   1806       ...         2014  2015  2016  2017  2018  Notnull_Sum  \\\n",
       "0  469.0  470.0       ...         76.1  73.2  70.4  68.2  65.9          221   \n",
       "1  375.0  375.0       ...         14.4  14.0  13.5  13.3  12.9          221   \n",
       "2  460.0  460.0       ...         25.6  25.5  25.2  23.9  23.1          221   \n",
       "3    NaN    NaN       ...          2.9   2.8   2.7   NaN   NaN           34   \n",
       "4  486.0  486.0       ...         91.2  86.5  82.5  83.1  81.6          221   \n",
       "\n",
       "   Isnull_Sum  Count  Isnull_Density  Notnull_Density  \n",
       "0           0    221        0.000000         1.000000  \n",
       "1           0    221        0.000000         1.000000  \n",
       "2           0    221        0.000000         1.000000  \n",
       "3         187    221        0.846154         0.153846  \n",
       "4           0    221        0.000000         1.000000  \n",
       "\n",
       "[5 rows x 227 columns]"
      ]
     },
     "execution_count": 86,
     "metadata": {},
     "output_type": "execute_result"
    }
   ],
   "source": [
    "df_child_mortality.head()"
   ]
  },
  {
   "cell_type": "code",
   "execution_count": 87,
   "metadata": {
    "collapsed": true
   },
   "outputs": [],
   "source": [
    "df_self_employed=df_null_density(self_employed,self_employed_tf)"
   ]
  },
  {
   "cell_type": "code",
   "execution_count": 88,
   "metadata": {},
   "outputs": [
    {
     "data": {
      "text/html": [
       "<div>\n",
       "<style scoped>\n",
       "    .dataframe tbody tr th:only-of-type {\n",
       "        vertical-align: middle;\n",
       "    }\n",
       "\n",
       "    .dataframe tbody tr th {\n",
       "        vertical-align: top;\n",
       "    }\n",
       "\n",
       "    .dataframe thead th {\n",
       "        text-align: right;\n",
       "    }\n",
       "</style>\n",
       "<table border=\"1\" class=\"dataframe\">\n",
       "  <thead>\n",
       "    <tr style=\"text-align: right;\">\n",
       "      <th></th>\n",
       "      <th>country</th>\n",
       "      <th>region</th>\n",
       "      <th>sub-region</th>\n",
       "      <th>1991</th>\n",
       "      <th>1992</th>\n",
       "      <th>1993</th>\n",
       "      <th>1994</th>\n",
       "      <th>1995</th>\n",
       "      <th>1996</th>\n",
       "      <th>1997</th>\n",
       "      <th>...</th>\n",
       "      <th>2018</th>\n",
       "      <th>2019</th>\n",
       "      <th>2020</th>\n",
       "      <th>2021</th>\n",
       "      <th>2022</th>\n",
       "      <th>Notnull_Sum</th>\n",
       "      <th>Isnull_Sum</th>\n",
       "      <th>Count</th>\n",
       "      <th>Isnull_Density</th>\n",
       "      <th>Notnull_Density</th>\n",
       "    </tr>\n",
       "  </thead>\n",
       "  <tbody>\n",
       "    <tr>\n",
       "      <th>0</th>\n",
       "      <td>Afghanistan</td>\n",
       "      <td>Asia</td>\n",
       "      <td>Southern Asia</td>\n",
       "      <td>63.8</td>\n",
       "      <td>65.6</td>\n",
       "      <td>70.8</td>\n",
       "      <td>76.2</td>\n",
       "      <td>74.5</td>\n",
       "      <td>73.3</td>\n",
       "      <td>74.8</td>\n",
       "      <td>...</td>\n",
       "      <td>67.3</td>\n",
       "      <td>67.3</td>\n",
       "      <td>67.3</td>\n",
       "      <td>67.2</td>\n",
       "      <td>67.1</td>\n",
       "      <td>34</td>\n",
       "      <td>0</td>\n",
       "      <td>34</td>\n",
       "      <td>0.0</td>\n",
       "      <td>1.0</td>\n",
       "    </tr>\n",
       "    <tr>\n",
       "      <th>1</th>\n",
       "      <td>Albania</td>\n",
       "      <td>Europe</td>\n",
       "      <td>Southern Europe</td>\n",
       "      <td>47.9</td>\n",
       "      <td>62.8</td>\n",
       "      <td>71.6</td>\n",
       "      <td>72.1</td>\n",
       "      <td>71.0</td>\n",
       "      <td>72.0</td>\n",
       "      <td>62.0</td>\n",
       "      <td>...</td>\n",
       "      <td>59.6</td>\n",
       "      <td>59.6</td>\n",
       "      <td>59.6</td>\n",
       "      <td>59.5</td>\n",
       "      <td>59.5</td>\n",
       "      <td>34</td>\n",
       "      <td>0</td>\n",
       "      <td>34</td>\n",
       "      <td>0.0</td>\n",
       "      <td>1.0</td>\n",
       "    </tr>\n",
       "    <tr>\n",
       "      <th>2</th>\n",
       "      <td>Algeria</td>\n",
       "      <td>Africa</td>\n",
       "      <td>Northern Africa</td>\n",
       "      <td>40.6</td>\n",
       "      <td>39.7</td>\n",
       "      <td>39.7</td>\n",
       "      <td>39.5</td>\n",
       "      <td>39.2</td>\n",
       "      <td>39.1</td>\n",
       "      <td>39.2</td>\n",
       "      <td>...</td>\n",
       "      <td>30.9</td>\n",
       "      <td>30.9</td>\n",
       "      <td>30.9</td>\n",
       "      <td>30.9</td>\n",
       "      <td>30.8</td>\n",
       "      <td>34</td>\n",
       "      <td>0</td>\n",
       "      <td>34</td>\n",
       "      <td>0.0</td>\n",
       "      <td>1.0</td>\n",
       "    </tr>\n",
       "    <tr>\n",
       "      <th>3</th>\n",
       "      <td>Angola</td>\n",
       "      <td>Africa</td>\n",
       "      <td>Middle Africa</td>\n",
       "      <td>74.5</td>\n",
       "      <td>71.4</td>\n",
       "      <td>69.7</td>\n",
       "      <td>67.8</td>\n",
       "      <td>66.9</td>\n",
       "      <td>66.5</td>\n",
       "      <td>66.7</td>\n",
       "      <td>...</td>\n",
       "      <td>71.5</td>\n",
       "      <td>71.5</td>\n",
       "      <td>71.5</td>\n",
       "      <td>71.4</td>\n",
       "      <td>71.4</td>\n",
       "      <td>34</td>\n",
       "      <td>0</td>\n",
       "      <td>34</td>\n",
       "      <td>0.0</td>\n",
       "      <td>1.0</td>\n",
       "    </tr>\n",
       "    <tr>\n",
       "      <th>4</th>\n",
       "      <td>Argentina</td>\n",
       "      <td>Americas</td>\n",
       "      <td>South America</td>\n",
       "      <td>29.7</td>\n",
       "      <td>29.8</td>\n",
       "      <td>31.2</td>\n",
       "      <td>29.7</td>\n",
       "      <td>29.4</td>\n",
       "      <td>29.1</td>\n",
       "      <td>28.2</td>\n",
       "      <td>...</td>\n",
       "      <td>24.9</td>\n",
       "      <td>24.8</td>\n",
       "      <td>24.8</td>\n",
       "      <td>24.7</td>\n",
       "      <td>24.7</td>\n",
       "      <td>34</td>\n",
       "      <td>0</td>\n",
       "      <td>34</td>\n",
       "      <td>0.0</td>\n",
       "      <td>1.0</td>\n",
       "    </tr>\n",
       "  </tbody>\n",
       "</table>\n",
       "<p>5 rows × 40 columns</p>\n",
       "</div>"
      ],
      "text/plain": [
       "       country    region       sub-region  1991  1992  1993  1994  1995  1996  \\\n",
       "0  Afghanistan      Asia    Southern Asia  63.8  65.6  70.8  76.2  74.5  73.3   \n",
       "1      Albania    Europe  Southern Europe  47.9  62.8  71.6  72.1  71.0  72.0   \n",
       "2      Algeria    Africa  Northern Africa  40.6  39.7  39.7  39.5  39.2  39.1   \n",
       "3       Angola    Africa    Middle Africa  74.5  71.4  69.7  67.8  66.9  66.5   \n",
       "4    Argentina  Americas    South America  29.7  29.8  31.2  29.7  29.4  29.1   \n",
       "\n",
       "   1997       ...         2018  2019  2020  2021  2022  Notnull_Sum  \\\n",
       "0  74.8       ...         67.3  67.3  67.3  67.2  67.1           34   \n",
       "1  62.0       ...         59.6  59.6  59.6  59.5  59.5           34   \n",
       "2  39.2       ...         30.9  30.9  30.9  30.9  30.8           34   \n",
       "3  66.7       ...         71.5  71.5  71.5  71.4  71.4           34   \n",
       "4  28.2       ...         24.9  24.8  24.8  24.7  24.7           34   \n",
       "\n",
       "   Isnull_Sum  Count  Isnull_Density  Notnull_Density  \n",
       "0           0     34             0.0              1.0  \n",
       "1           0     34             0.0              1.0  \n",
       "2           0     34             0.0              1.0  \n",
       "3           0     34             0.0              1.0  \n",
       "4           0     34             0.0              1.0  \n",
       "\n",
       "[5 rows x 40 columns]"
      ]
     },
     "execution_count": 88,
     "metadata": {},
     "output_type": "execute_result"
    }
   ],
   "source": [
    "df_self_employed.head()"
   ]
  },
  {
   "cell_type": "markdown",
   "metadata": {},
   "source": [
    "#### 3.4 Drop the records that don't meet the threshold\n",
    "For each record in each dataframe we have added additional information that tells us the null count,the notNull count, isNullDensity and NotNullDensity. We will use these columns to drop each record that doesn't measure up to our set Null Density treshold. \n",
    "\n",
    "After that, we will drop the columns that aren't useful and attach the country code to each dataframe to enable us analyse our data by certian groups(i.e region,subregion etc)"
   ]
  },
  {
   "cell_type": "code",
   "execution_count": 89,
   "metadata": {
    "collapsed": true
   },
   "outputs": [],
   "source": [
    "#new list of dataframes\n",
    "df_new_list=['df_income', 'df_hdi', 'df_co2_per_person', 'df_child_mortality', 'df_life_expectancy','df_self_employed']"
   ]
  },
  {
   "cell_type": "code",
   "execution_count": 90,
   "metadata": {},
   "outputs": [
    {
     "name": "stdout",
     "output_type": "stream",
     "text": [
      "0.00% of the df_income dataset is missing.\n",
      "6.58% of the df_hdi dataset is missing.\n",
      "28.85% of the df_co2_per_person dataset is missing.\n",
      "0.01% of the df_child_mortality dataset is missing.\n",
      "0.00% of the df_life_expectancy dataset is missing.\n",
      "0.00% of the df_self_employed dataset is missing.\n"
     ]
    }
   ],
   "source": [
    "for i in df_new_list:\n",
    "    useful_entries(eval(i))\n",
    "    percent_missing(eval(i),i)"
   ]
  },
  {
   "cell_type": "markdown",
   "metadata": {},
   "source": [
    "#### 3.5 Imputation\n",
    "After dropping countries that didn't measure up to our threshold, some of the cells in 3 dataframes still had missing values. \n",
    "\n",
    "We can see that 3 of the datasets have complete data in all their cells,**~29%** of the co2 per person(df_co2_per_person) dataset is missing, **~7%** of the Human development Index(df_hdi) dataset is missing, \n",
    "and lastly, only **0.01%** of the child mortality(df_child_mortality) dataset is missing.  \n",
    "\n",
    "We rectified this issue by using imputation to fill those cells. To do that we wrote a function **row_mean_imputation** that takes the mean of each record(country) and used this mean to fill up missing values. "
   ]
  },
  {
   "cell_type": "code",
   "execution_count": 91,
   "metadata": {
    "collapsed": true
   },
   "outputs": [],
   "source": [
    "def drop_density_columns(df):\n",
    "    df.drop(df.columns[-5:],axis=1,inplace=True)"
   ]
  },
  {
   "cell_type": "code",
   "execution_count": 92,
   "metadata": {
    "collapsed": true
   },
   "outputs": [],
   "source": [
    "for i in df_new_list:\n",
    "    row_mean_imputation(eval(i))\n",
    "    drop_density_columns(eval(i))"
   ]
  },
  {
   "cell_type": "markdown",
   "metadata": {},
   "source": [
    "I then wrote a small function to remove or drop the columns we used while calculating the Nan Density for each record in all the datasets."
   ]
  },
  {
   "cell_type": "code",
   "execution_count": 93,
   "metadata": {},
   "outputs": [
    {
     "name": "stdout",
     "output_type": "stream",
     "text": [
      "0.00% of the df_income dataset is missing.\n",
      "0.00% of the df_hdi dataset is missing.\n",
      "0.00% of the df_co2_per_person dataset is missing.\n",
      "0.00% of the df_child_mortality dataset is missing.\n",
      "0.00% of the df_life_expectancy dataset is missing.\n",
      "0.00% of the df_self_employed dataset is missing.\n"
     ]
    }
   ],
   "source": [
    "for i in df_new_list:\n",
    "    percent_missing(eval(i),i)"
   ]
  },
  {
   "cell_type": "markdown",
   "metadata": {},
   "source": [
    "We now have complete datasets with no missing values."
   ]
  },
  {
   "cell_type": "markdown",
   "metadata": {},
   "source": [
    "I melted each dataframe to make sure i had tidy data, i.e \n",
    "<Ul>\n",
    "    <li>Each variable is a separate column</li>\n",
    "    <li>Each row a separate observation</li>\n",
    "</Ul>\n",
    "\n",
    "I did this by defining a melt function and calling a function on each dataframe."
   ]
  },
  {
   "cell_type": "code",
   "execution_count": 94,
   "metadata": {
    "collapsed": true
   },
   "outputs": [],
   "source": [
    "def melt_df(df,col_name):\n",
    "    return pd.melt(frame=df,id_vars=['country','region','sub-region'],var_name='year',value_name=col_name)"
   ]
  },
  {
   "cell_type": "code",
   "execution_count": 95,
   "metadata": {
    "collapsed": true
   },
   "outputs": [],
   "source": [
    "income_melt=melt_df(df_income,'income')\n",
    "hdi_melt=melt_df(df_hdi,'hdi')\n",
    "co2_per_person_melt=melt_df(df_co2_per_person,'co2_per_person')\n",
    "child_mortality_melt=melt_df(df_child_mortality,'Child_mortality')\n",
    "life_expectancy_melt=melt_df(df_life_expectancy,'Life_expectancy')\n",
    "self_employed_melt=melt_df(df_self_employed,'self_employed')"
   ]
  },
  {
   "cell_type": "markdown",
   "metadata": {},
   "source": [
    "After that, I combined all the dataframes into a single dataframe with the help of the merge function with the help of **reduce and lambda** functions."
   ]
  },
  {
   "cell_type": "code",
   "execution_count": 96,
   "metadata": {
    "collapsed": true
   },
   "outputs": [],
   "source": [
    "merge_df_list=[income_melt,hdi_melt,co2_per_person_melt,child_mortality_melt,life_expectancy_melt,self_employed_melt]"
   ]
  },
  {
   "cell_type": "code",
   "execution_count": 97,
   "metadata": {
    "collapsed": true
   },
   "outputs": [],
   "source": [
    "df_combined=reduce(lambda left,right: pd.merge(left,right, on=['country','region','sub-region','year']),merge_df_list)"
   ]
  },
  {
   "cell_type": "markdown",
   "metadata": {},
   "source": [
    "Finally we have a master dataframe that contains the relevant indicators we need to probe."
   ]
  },
  {
   "cell_type": "markdown",
   "metadata": {},
   "source": [
    "<a id='eda'></a>\n",
    "## Exploratory Data Analysis\n",
    "\n",
    "\n",
    "### Research Question \n",
    "From our introduction, it was made clear that the variables we were interested in exploring are Income per capita, co2 emission per person, human development index(hdi), child mortality and self employed as a percentage of the employed population in a country. \n",
    "\n",
    "We will see how these variables change per country and region with respect to Income per capita."
   ]
  },
  {
   "cell_type": "markdown",
   "metadata": {},
   "source": [
    "First off, it is important to observe the general trend of gloabl income per capita from 1991-2014. To do that we plot a graph of the mean income for all the countries in our df_combined dataset and plot it against years."
   ]
  },
  {
   "cell_type": "markdown",
   "metadata": {},
   "source": [
    "To begin, we have to make sure our dataframe is set for exploratory analysis."
   ]
  },
  {
   "cell_type": "code",
   "execution_count": 98,
   "metadata": {},
   "outputs": [
    {
     "name": "stdout",
     "output_type": "stream",
     "text": [
      "<class 'pandas.core.frame.DataFrame'>\n",
      "Int64Index: 1200 entries, 0 to 1199\n",
      "Data columns (total 10 columns):\n",
      "country            1200 non-null object\n",
      "region             1200 non-null object\n",
      "sub-region         1200 non-null object\n",
      "year               1200 non-null object\n",
      "income             1200 non-null int64\n",
      "hdi                1200 non-null float64\n",
      "co2_per_person     1200 non-null float64\n",
      "Child_mortality    1200 non-null float64\n",
      "Life_expectancy    1200 non-null float64\n",
      "self_employed      1200 non-null float64\n",
      "dtypes: float64(5), int64(1), object(4)\n",
      "memory usage: 103.1+ KB\n"
     ]
    }
   ],
   "source": [
    "df_combined.info()"
   ]
  },
  {
   "cell_type": "markdown",
   "metadata": {},
   "source": [
    "Notice that the year colume is of type object, which means it is a string, we will need to convert it to an int so as not to get any errors when we during our exploratry analysis."
   ]
  },
  {
   "cell_type": "code",
   "execution_count": 99,
   "metadata": {
    "collapsed": true
   },
   "outputs": [],
   "source": [
    "df_combined['year']=pd.to_numeric(df_combined.year)\n",
    "df_combined['income']=df_combined.income.astype(float)\n",
    "assert df_combined.year.dtypes==np.int64 and df_combined.income.dtypes==np.float64"
   ]
  },
  {
   "cell_type": "code",
   "execution_count": 100,
   "metadata": {},
   "outputs": [
    {
     "name": "stdout",
     "output_type": "stream",
     "text": [
      "<class 'pandas.core.frame.DataFrame'>\n",
      "Int64Index: 1200 entries, 0 to 1199\n",
      "Data columns (total 10 columns):\n",
      "country            1200 non-null object\n",
      "region             1200 non-null object\n",
      "sub-region         1200 non-null object\n",
      "year               1200 non-null int64\n",
      "income             1200 non-null float64\n",
      "hdi                1200 non-null float64\n",
      "co2_per_person     1200 non-null float64\n",
      "Child_mortality    1200 non-null float64\n",
      "Life_expectancy    1200 non-null float64\n",
      "self_employed      1200 non-null float64\n",
      "dtypes: float64(6), int64(1), object(3)\n",
      "memory usage: 103.1+ KB\n"
     ]
    }
   ],
   "source": [
    "df_combined.info()"
   ]
  },
  {
   "cell_type": "code",
   "execution_count": 101,
   "metadata": {},
   "outputs": [
    {
     "data": {
      "text/plain": [
       "region\n",
       "Africa      [Algeria, Egypt, Nigeria, South Africa, Zimbabwe]\n",
       "Americas    [Argentina, Brazil, Canada, Chile, Ecuador, Me...\n",
       "Asia        [Armenia, Azerbaijan, China, Georgia, India, I...\n",
       "Europe      [Austria, Belarus, Belgium, Bulgaria, Czech Re...\n",
       "Oceania                              [Australia, New Zealand]\n",
       "Name: country, dtype: object"
      ]
     },
     "execution_count": 101,
     "metadata": {},
     "output_type": "execute_result"
    }
   ],
   "source": [
    "df_combined.groupby('region')['country'].unique()"
   ]
  },
  {
   "cell_type": "markdown",
   "metadata": {},
   "source": [
    "#### PLOT MEAN INCOME PER CAPITA VS YEARS"
   ]
  },
  {
   "cell_type": "code",
   "execution_count": 102,
   "metadata": {
    "collapsed": true
   },
   "outputs": [],
   "source": [
    "x_series=df_combined.year.unique()\n",
    "y_series=df_combined.groupby('year')['income'].mean()\n",
    "x_label='Year'\n",
    "y_label='Income(mean)'\n",
    "plt_title='Income per person(inflation adjusted)'"
   ]
  },
  {
   "cell_type": "code",
   "execution_count": 105,
   "metadata": {},
   "outputs": [
    {
     "data": {
      "application/vnd.jupyter.widget-view+json": {
       "model_id": "7df81404f1794624afa23702078e4414",
       "version_major": 2,
       "version_minor": 0
      },
      "text/plain": [
       "VBox(children=(Figure(axes=[Axis(label='Year', scale=LinearScale(max=2016.3577054545183, min=1989.501572349101…"
      ]
     },
     "metadata": {},
     "output_type": "display_data"
    }
   ],
   "source": [
    "plt.plot(x_series,y_series,c='blue')\n",
    "plt.xlabel('Year')\n",
    "plt.ylabel(y_label)\n",
    "plt.title(plt_title)\n",
    "plt.show()"
   ]
  },
  {
   "cell_type": "markdown",
   "metadata": {},
   "source": [
    "From the graph above it is clear that the global mean income per capital is in an upward trend. Lets see how the other variables fair as income per capital increases. "
   ]
  },
  {
   "cell_type": "markdown",
   "metadata": {},
   "source": [
    "#### Create a Bqplot of the dataframe showing how life expectancy changes as Income increases for each country"
   ]
  },
  {
   "cell_type": "markdown",
   "metadata": {},
   "source": [
    "I used bqplot and Ipywidgets to recreate the famous wealth of nations by Hans Roslig. I used income on the y-axis and x-axis. The bubble representing each country is the $co_2$ emission per person. "
   ]
  },
  {
   "cell_type": "code",
   "execution_count": 106,
   "metadata": {
    "collapsed": true
   },
   "outputs": [],
   "source": [
    "initial_year=1991"
   ]
  },
  {
   "cell_type": "code",
   "execution_count": 107,
   "metadata": {
    "collapsed": true
   },
   "outputs": [],
   "source": [
    "income_min,income_max=df_combined['income'].min(),df_combined['income'].max()\n",
    "hdi_min,hdi_max=df_combined['hdi'].min(),df_combined['hdi'].max()\n",
    "co2_per_person_min,co2_per_person_max=df_combined['co2_per_person'].min(),df_combined['co2_per_person'].max()\n",
    "child_mortality_min,child_mortality_max=df_combined['Child_mortality'].min(),df_combined['Child_mortality'].max()\n",
    "life_expectancy_min,life_expectancy_max=df_combined['Life_expectancy'].min(),df_combined['Life_expectancy'].max()\n",
    "self_employed_min,self_employed_max=df_combined['self_employed'].min(),df_combined['self_employed'].max()"
   ]
  },
  {
   "cell_type": "code",
   "execution_count": 108,
   "metadata": {
    "collapsed": true
   },
   "outputs": [],
   "source": [
    "def get_data_for_year(year):\n",
    "    income_array=df_combined['income'][df_combined['year'].astype(float)==year]\n",
    "    #hdi_array=df_combined['hdi'][df_combined['year']==year]\n",
    "    co2_per_person_array=df_combined['co2_per_person'][df_combined['year']==year]\n",
    "    #child_mortality_array=df_combined['Child_mortality'][df_combined['year']==year]\n",
    "    life_expectancy_array=df_combined['Life_expectancy'][df_combined['year']==year]\n",
    "    #self_employed_array=df_combined['self_employed'][df_combined['year']==year]\n",
    "    return income_array,life_expectancy_array,co2_per_person_array#,hdi_array#,child_mortality_array,self_employed_array"
   ]
  },
  {
   "cell_type": "code",
   "execution_count": 109,
   "metadata": {
    "collapsed": true
   },
   "outputs": [],
   "source": [
    "#Creating the tooltip to display the required fields\n",
    "tt = Tooltip(fields=['name', 'x', 'y'], labels=['Country Name', 'Income per Capita', 'Life Expectancy'])"
   ]
  },
  {
   "cell_type": "code",
   "execution_count": 110,
   "metadata": {
    "collapsed": true
   },
   "outputs": [],
   "source": [
    "year_label = Label(x=[0.75], y=[0.10], default_size=46, font_weight='bolder', colors=['black'],\n",
    "                   text=[str(initial_year)], enable_move=True)"
   ]
  },
  {
   "cell_type": "code",
   "execution_count": 111,
   "metadata": {
    "collapsed": true
   },
   "outputs": [],
   "source": [
    "#Defining Axix and Scale\n",
    "\n",
    "x_sc = LogScale(min=income_min, max=income_max)\n",
    "y_sc = LinearScale(min=life_expectancy_min, max=life_expectancy_max)\n",
    "c_sc = OrdinalColorScale(domain=df_combined['region'].unique().tolist(), colors=CATEGORY10[:6])\n",
    "size_sc = LinearScale(min=co2_per_person_min, max=co2_per_person_max)"
   ]
  },
  {
   "cell_type": "code",
   "execution_count": 112,
   "metadata": {
    "collapsed": true
   },
   "outputs": [],
   "source": [
    "ax_y = Axis(label='Life Expectancy', scale=y_sc, orientation='vertical', side='left', grid_lines='solid')\n",
    "ax_x = Axis(label='Income per Capita', scale=x_sc, grid_lines='solid')"
   ]
  },
  {
   "cell_type": "code",
   "execution_count": 113,
   "metadata": {
    "collapsed": true
   },
   "outputs": [],
   "source": [
    "#Creating the Scatter Mark with the appropriate size and color parameters passed¶\n",
    "\n",
    "cap_income, life_exp, co2_per_person_ = get_data_for_year(initial_year)"
   ]
  },
  {
   "cell_type": "code",
   "execution_count": 114,
   "metadata": {
    "collapsed": true
   },
   "outputs": [],
   "source": [
    "wealth_scat = Scatter(x=cap_income, y=life_exp, color=df_combined['region'][0:50], size=co2_per_person_,\n",
    "                      names=df_combined['country'][0:50], display_names=False,\n",
    "                      scales={'x': x_sc, 'y': y_sc, 'color': c_sc, 'size': size_sc},\n",
    "                      default_size=2610, tooltip=tt, animate=True, stroke='Black',\n",
    "                      unhovered_style={'opacity': 0.5})"
   ]
  },
  {
   "cell_type": "code",
   "execution_count": 115,
   "metadata": {
    "collapsed": true,
    "scrolled": true
   },
   "outputs": [],
   "source": [
    "nation_line = Lines(x=df_combined['income'][df_combined['country']=='Algeria'], y=df_combined['Life_expectancy'][df_combined['country']=='Algeria'], colors=['Gray'],\n",
    "                       scales={'x': x_sc, 'y': y_sc}, visible=False)"
   ]
  },
  {
   "cell_type": "markdown",
   "metadata": {},
   "source": [
    "#### Create the Figure"
   ]
  },
  {
   "cell_type": "code",
   "execution_count": 116,
   "metadata": {
    "collapsed": true
   },
   "outputs": [],
   "source": [
    "time_interval=400"
   ]
  },
  {
   "cell_type": "code",
   "execution_count": 117,
   "metadata": {
    "collapsed": true
   },
   "outputs": [],
   "source": [
    "fig = Figure(marks=[wealth_scat, year_label, nation_line], axes=[ax_x, ax_y],\n",
    "             title='Health and Development of Nations', animation_duration=time_interval)"
   ]
  },
  {
   "cell_type": "code",
   "execution_count": 118,
   "metadata": {
    "collapsed": true
   },
   "outputs": [],
   "source": [
    "#Using a Slider to allow the user to change the year and a button for animation\n",
    "\n",
    "year_slider = IntSlider(min=1991, max=2014, step=1, description='Year', value=initial_year)"
   ]
  },
  {
   "cell_type": "code",
   "execution_count": 119,
   "metadata": {
    "collapsed": true
   },
   "outputs": [],
   "source": [
    "def hover_changed(change):\n",
    "    if change.new is not None:\n",
    "        nation_line.x = df_combined[df_combined['country'] == wealth_scat.names[change.new]]['income'][0:50]\n",
    "        nation_line.y = df_combined[df_combined['country'] == wealth_scat.names[change.new]]['Life_expectancy'][0:50]\n",
    "        nation_line.visible = True\n",
    "    else:\n",
    "        nation_line.visible = False\n",
    "        \n",
    "wealth_scat.observe(hover_changed, 'hovered_point')"
   ]
  },
  {
   "cell_type": "code",
   "execution_count": 120,
   "metadata": {
    "collapsed": true
   },
   "outputs": [],
   "source": [
    "def year_changed(change):\n",
    "    wealth_scat.x, wealth_scat.y, wealth_scat.size = get_data_for_year(year_slider.value)\n",
    "    year_label.text = [str(year_slider.value)]\n",
    "\n",
    "year_slider.observe(year_changed, 'value')"
   ]
  },
  {
   "cell_type": "code",
   "execution_count": 121,
   "metadata": {
    "collapsed": true
   },
   "outputs": [],
   "source": [
    "play_button = Play(min=1991, max=2014, interval=time_interval)\n",
    "jslink((play_button, 'value'), (year_slider, 'value'))"
   ]
  },
  {
   "cell_type": "code",
   "execution_count": 122,
   "metadata": {
    "scrolled": false
   },
   "outputs": [
    {
     "data": {
      "application/vnd.jupyter.widget-view+json": {
       "model_id": "16382d4f16ff48618504278d1cd35926",
       "version_major": 2,
       "version_minor": 0
      },
      "text/plain": [
       "VBox(children=(HBox(children=(Play(value=1991, interval=400, max=2014, min=1991), IntSlider(value=1991, descri…"
      ]
     },
     "metadata": {},
     "output_type": "display_data"
    }
   ],
   "source": [
    "VBox([HBox([play_button, year_slider]), fig])"
   ]
  },
  {
   "cell_type": "markdown",
   "metadata": {},
   "source": [
    "#### Observations on Income Per Capita Vs Life Expectancy and $CO_2$ emitted per person \n",
    "From the Amination above, it is clear that as income increased, life expectancy also increased almost linearly for a lot of the countries except Zimbabwe, Uzbekistan and a few others. \n",
    "\n",
    "As at 2014, a few asian countries are seen to have low life expectancy with african countries having even lower life expectancy. Nigeria which had a similar income per capita as India and Uzbekistan, had a lower life expectancy while South Africa which had a higher Income per capita than all three countries had an even lower life expectancy than Nigeria. \n",
    "\n",
    "Zimbabwe had the lowest life expectancy of all the countries observed an also the least income per capita. One reason for this was the blowout of HIV/AIDS, detoriating economic activities and lack of access to medical facilities as viral spread of poverty in the country[1].\n",
    "\n",
    "Also the animation shows that the $co_2$ per person seemed to increase generally across all countries with Trinidad and Tobago showing one of the greatest $co_2$ emission per person. Lets perform some further exploratory analysis on this.\n",
    "\n",
    "\n"
   ]
  },
  {
   "cell_type": "markdown",
   "metadata": {},
   "source": [
    "#### BoxPlot of mean $CO_2$ emission per person for each region"
   ]
  },
  {
   "cell_type": "code",
   "execution_count": 123,
   "metadata": {},
   "outputs": [
    {
     "data": {
      "text/plain": [
       "<matplotlib.text.Text at 0x114b27390>"
      ]
     },
     "execution_count": 123,
     "metadata": {},
     "output_type": "execute_result"
    },
    {
     "data": {
      "image/png": "[encoded data removed]",
      "text/plain": [
       "<matplotlib.figure.Figure at 0x114a0b3c8>"
      ]
     },
     "metadata": {},
     "output_type": "display_data"
    }
   ],
   "source": [
    "boxplt_df=co2_per_person.groupby('region').mean().T\n",
    "ax=sns.stripplot(data=boxplt_df,jitter=True,orient='h')\n",
    "ax.set_xlabel('CO2 per person',fontdict={'size':14})\n",
    "ax.set_ylabel('Region')\n",
    "ax.set_title('Jitter plot of the Co2_per_person by Region',fontdict={'size':16})"
   ]
  },
  {
   "cell_type": "code",
   "execution_count": 124,
   "metadata": {
    "scrolled": false
   },
   "outputs": [
    {
     "data": {
      "text/plain": [
       "<matplotlib.axes._subplots.AxesSubplot at 0x1149f0b00>"
      ]
     },
     "execution_count": 124,
     "metadata": {},
     "output_type": "execute_result"
    },
    {
     "data": {
      "image/png": "[encoded data removed]",
      "text/plain": [
       "<matplotlib.figure.Figure at 0x114b5b128>"
      ]
     },
     "metadata": {},
     "output_type": "display_data"
    }
   ],
   "source": [
    "#boxplot_df is a dataframe of the mean $co_2$ emission per person grouped by year and region\n",
    "#boxplot_df=df_combined.loc[:,['co2_per_person','region','year']].groupby(['year','region']).mean()\n",
    "#boxplot_df.boxplot(column='co2_per_person',by='region',figsize=(8,6))\n",
    "#sns.violinplot(data=boxplt_df)\n",
    "boxplt_df.boxplot()"
   ]
  },
  {
   "cell_type": "code",
   "execution_count": 125,
   "metadata": {},
   "outputs": [
    {
     "data": {
      "text/html": [
       "<div>\n",
       "<style scoped>\n",
       "    .dataframe tbody tr th:only-of-type {\n",
       "        vertical-align: middle;\n",
       "    }\n",
       "\n",
       "    .dataframe tbody tr th {\n",
       "        vertical-align: top;\n",
       "    }\n",
       "\n",
       "    .dataframe thead th {\n",
       "        text-align: right;\n",
       "    }\n",
       "</style>\n",
       "<table border=\"1\" class=\"dataframe\">\n",
       "  <thead>\n",
       "    <tr style=\"text-align: right;\">\n",
       "      <th></th>\n",
       "      <th>country</th>\n",
       "      <th>region</th>\n",
       "      <th>sub-region</th>\n",
       "      <th>1800</th>\n",
       "      <th>1801</th>\n",
       "      <th>1802</th>\n",
       "      <th>1803</th>\n",
       "      <th>1804</th>\n",
       "      <th>1805</th>\n",
       "      <th>1806</th>\n",
       "      <th>...</th>\n",
       "      <th>2005</th>\n",
       "      <th>2006</th>\n",
       "      <th>2007</th>\n",
       "      <th>2008</th>\n",
       "      <th>2009</th>\n",
       "      <th>2010</th>\n",
       "      <th>2011</th>\n",
       "      <th>2012</th>\n",
       "      <th>2013</th>\n",
       "      <th>2014</th>\n",
       "    </tr>\n",
       "  </thead>\n",
       "  <tbody>\n",
       "    <tr>\n",
       "      <th>3</th>\n",
       "      <td>Australia</td>\n",
       "      <td>Oceania</td>\n",
       "      <td>Australia and New Zealand</td>\n",
       "      <td>6.766415</td>\n",
       "      <td>6.766415</td>\n",
       "      <td>6.766415</td>\n",
       "      <td>6.766415</td>\n",
       "      <td>6.766415</td>\n",
       "      <td>6.766415</td>\n",
       "      <td>6.766415</td>\n",
       "      <td>...</td>\n",
       "      <td>17.30</td>\n",
       "      <td>17.80</td>\n",
       "      <td>17.80</td>\n",
       "      <td>18.10</td>\n",
       "      <td>18.20</td>\n",
       "      <td>17.70</td>\n",
       "      <td>17.40</td>\n",
       "      <td>17.00</td>\n",
       "      <td>16.10</td>\n",
       "      <td>15.40</td>\n",
       "    </tr>\n",
       "    <tr>\n",
       "      <th>32</th>\n",
       "      <td>New Zealand</td>\n",
       "      <td>Oceania</td>\n",
       "      <td>Australia and New Zealand</td>\n",
       "      <td>4.533693</td>\n",
       "      <td>4.533693</td>\n",
       "      <td>4.533693</td>\n",
       "      <td>4.533693</td>\n",
       "      <td>4.533693</td>\n",
       "      <td>4.533693</td>\n",
       "      <td>4.533693</td>\n",
       "      <td>...</td>\n",
       "      <td>8.26</td>\n",
       "      <td>7.99</td>\n",
       "      <td>7.95</td>\n",
       "      <td>7.99</td>\n",
       "      <td>7.49</td>\n",
       "      <td>7.27</td>\n",
       "      <td>7.13</td>\n",
       "      <td>7.64</td>\n",
       "      <td>7.41</td>\n",
       "      <td>7.59</td>\n",
       "    </tr>\n",
       "  </tbody>\n",
       "</table>\n",
       "<p>2 rows × 218 columns</p>\n",
       "</div>"
      ],
      "text/plain": [
       "        country   region                 sub-region      1800      1801  \\\n",
       "3     Australia  Oceania  Australia and New Zealand  6.766415  6.766415   \n",
       "32  New Zealand  Oceania  Australia and New Zealand  4.533693  4.533693   \n",
       "\n",
       "        1802      1803      1804      1805      1806  ...     2005   2006  \\\n",
       "3   6.766415  6.766415  6.766415  6.766415  6.766415  ...    17.30  17.80   \n",
       "32  4.533693  4.533693  4.533693  4.533693  4.533693  ...     8.26   7.99   \n",
       "\n",
       "     2007   2008   2009   2010   2011   2012   2013   2014  \n",
       "3   17.80  18.10  18.20  17.70  17.40  17.00  16.10  15.40  \n",
       "32   7.95   7.99   7.49   7.27   7.13   7.64   7.41   7.59  \n",
       "\n",
       "[2 rows x 218 columns]"
      ]
     },
     "execution_count": 125,
     "metadata": {},
     "output_type": "execute_result"
    }
   ],
   "source": [
    "co2_per_person[co2_per_person['region']=='Oceania']"
   ]
  },
  {
   "cell_type": "code",
   "execution_count": 126,
   "metadata": {
    "scrolled": true
   },
   "outputs": [
    {
     "data": {
      "text/html": [
       "<div>\n",
       "<style scoped>\n",
       "    .dataframe tbody tr th:only-of-type {\n",
       "        vertical-align: middle;\n",
       "    }\n",
       "\n",
       "    .dataframe tbody tr th {\n",
       "        vertical-align: top;\n",
       "    }\n",
       "\n",
       "    .dataframe thead th {\n",
       "        text-align: right;\n",
       "    }\n",
       "</style>\n",
       "<table border=\"1\" class=\"dataframe\">\n",
       "  <thead>\n",
       "    <tr style=\"text-align: right;\">\n",
       "      <th></th>\n",
       "      <th>country</th>\n",
       "      <th>region</th>\n",
       "      <th>sub-region</th>\n",
       "      <th>1800</th>\n",
       "      <th>1801</th>\n",
       "      <th>1802</th>\n",
       "      <th>1803</th>\n",
       "      <th>1804</th>\n",
       "      <th>1805</th>\n",
       "      <th>1806</th>\n",
       "      <th>...</th>\n",
       "      <th>2005</th>\n",
       "      <th>2006</th>\n",
       "      <th>2007</th>\n",
       "      <th>2008</th>\n",
       "      <th>2009</th>\n",
       "      <th>2010</th>\n",
       "      <th>2011</th>\n",
       "      <th>2012</th>\n",
       "      <th>2013</th>\n",
       "      <th>2014</th>\n",
       "    </tr>\n",
       "  </thead>\n",
       "  <tbody>\n",
       "    <tr>\n",
       "      <th>1</th>\n",
       "      <td>Argentina</td>\n",
       "      <td>Americas</td>\n",
       "      <td>South America</td>\n",
       "      <td>2.138937</td>\n",
       "      <td>2.138937</td>\n",
       "      <td>2.138937</td>\n",
       "      <td>2.138937</td>\n",
       "      <td>2.138937</td>\n",
       "      <td>2.138937</td>\n",
       "      <td>2.138937</td>\n",
       "      <td>...</td>\n",
       "      <td>4.14</td>\n",
       "      <td>4.43</td>\n",
       "      <td>4.38</td>\n",
       "      <td>4.68</td>\n",
       "      <td>4.41</td>\n",
       "      <td>4.56</td>\n",
       "      <td>4.60</td>\n",
       "      <td>4.57</td>\n",
       "      <td>4.46</td>\n",
       "      <td>4.75</td>\n",
       "    </tr>\n",
       "    <tr>\n",
       "      <th>8</th>\n",
       "      <td>Brazil</td>\n",
       "      <td>Americas</td>\n",
       "      <td>South America</td>\n",
       "      <td>0.818841</td>\n",
       "      <td>0.818841</td>\n",
       "      <td>0.818841</td>\n",
       "      <td>0.818841</td>\n",
       "      <td>0.818841</td>\n",
       "      <td>0.818841</td>\n",
       "      <td>0.818841</td>\n",
       "      <td>...</td>\n",
       "      <td>1.86</td>\n",
       "      <td>1.84</td>\n",
       "      <td>1.90</td>\n",
       "      <td>2.01</td>\n",
       "      <td>1.88</td>\n",
       "      <td>2.13</td>\n",
       "      <td>2.21</td>\n",
       "      <td>2.34</td>\n",
       "      <td>2.49</td>\n",
       "      <td>2.59</td>\n",
       "    </tr>\n",
       "    <tr>\n",
       "      <th>10</th>\n",
       "      <td>Canada</td>\n",
       "      <td>Americas</td>\n",
       "      <td>Northern America</td>\n",
       "      <td>0.005680</td>\n",
       "      <td>0.005610</td>\n",
       "      <td>0.005550</td>\n",
       "      <td>0.005480</td>\n",
       "      <td>0.005420</td>\n",
       "      <td>0.005360</td>\n",
       "      <td>0.005290</td>\n",
       "      <td>...</td>\n",
       "      <td>17.30</td>\n",
       "      <td>16.70</td>\n",
       "      <td>16.80</td>\n",
       "      <td>16.80</td>\n",
       "      <td>15.90</td>\n",
       "      <td>15.60</td>\n",
       "      <td>15.60</td>\n",
       "      <td>14.80</td>\n",
       "      <td>14.70</td>\n",
       "      <td>15.10</td>\n",
       "    </tr>\n",
       "    <tr>\n",
       "      <th>11</th>\n",
       "      <td>Chile</td>\n",
       "      <td>Americas</td>\n",
       "      <td>South America</td>\n",
       "      <td>1.823042</td>\n",
       "      <td>1.823042</td>\n",
       "      <td>1.823042</td>\n",
       "      <td>1.823042</td>\n",
       "      <td>1.823042</td>\n",
       "      <td>1.823042</td>\n",
       "      <td>1.823042</td>\n",
       "      <td>...</td>\n",
       "      <td>3.83</td>\n",
       "      <td>3.97</td>\n",
       "      <td>4.34</td>\n",
       "      <td>4.31</td>\n",
       "      <td>3.97</td>\n",
       "      <td>4.25</td>\n",
       "      <td>4.62</td>\n",
       "      <td>4.68</td>\n",
       "      <td>4.77</td>\n",
       "      <td>4.69</td>\n",
       "    </tr>\n",
       "    <tr>\n",
       "      <th>15</th>\n",
       "      <td>Ecuador</td>\n",
       "      <td>Americas</td>\n",
       "      <td>South America</td>\n",
       "      <td>0.988042</td>\n",
       "      <td>0.988042</td>\n",
       "      <td>0.988042</td>\n",
       "      <td>0.988042</td>\n",
       "      <td>0.988042</td>\n",
       "      <td>0.988042</td>\n",
       "      <td>0.988042</td>\n",
       "      <td>...</td>\n",
       "      <td>2.20</td>\n",
       "      <td>2.07</td>\n",
       "      <td>2.24</td>\n",
       "      <td>2.34</td>\n",
       "      <td>2.46</td>\n",
       "      <td>2.44</td>\n",
       "      <td>2.54</td>\n",
       "      <td>2.47</td>\n",
       "      <td>2.62</td>\n",
       "      <td>2.76</td>\n",
       "    </tr>\n",
       "    <tr>\n",
       "      <th>30</th>\n",
       "      <td>Mexico</td>\n",
       "      <td>Americas</td>\n",
       "      <td>Central America</td>\n",
       "      <td>2.152221</td>\n",
       "      <td>2.152221</td>\n",
       "      <td>2.152221</td>\n",
       "      <td>2.152221</td>\n",
       "      <td>2.152221</td>\n",
       "      <td>2.152221</td>\n",
       "      <td>2.152221</td>\n",
       "      <td>...</td>\n",
       "      <td>4.30</td>\n",
       "      <td>4.35</td>\n",
       "      <td>4.30</td>\n",
       "      <td>4.34</td>\n",
       "      <td>4.12</td>\n",
       "      <td>3.96</td>\n",
       "      <td>4.07</td>\n",
       "      <td>4.11</td>\n",
       "      <td>4.00</td>\n",
       "      <td>3.87</td>\n",
       "    </tr>\n",
       "    <tr>\n",
       "      <th>35</th>\n",
       "      <td>Peru</td>\n",
       "      <td>Americas</td>\n",
       "      <td>South America</td>\n",
       "      <td>0.821087</td>\n",
       "      <td>0.821087</td>\n",
       "      <td>0.821087</td>\n",
       "      <td>0.821087</td>\n",
       "      <td>0.821087</td>\n",
       "      <td>0.821087</td>\n",
       "      <td>0.821087</td>\n",
       "      <td>...</td>\n",
       "      <td>1.34</td>\n",
       "      <td>1.25</td>\n",
       "      <td>1.52</td>\n",
       "      <td>1.43</td>\n",
       "      <td>1.78</td>\n",
       "      <td>1.96</td>\n",
       "      <td>1.67</td>\n",
       "      <td>1.83</td>\n",
       "      <td>1.87</td>\n",
       "      <td>1.99</td>\n",
       "    </tr>\n",
       "    <tr>\n",
       "      <th>45</th>\n",
       "      <td>Trinidad and Tobago</td>\n",
       "      <td>Americas</td>\n",
       "      <td>Caribbean</td>\n",
       "      <td>12.466504</td>\n",
       "      <td>12.466504</td>\n",
       "      <td>12.466504</td>\n",
       "      <td>12.466504</td>\n",
       "      <td>12.466504</td>\n",
       "      <td>12.466504</td>\n",
       "      <td>12.466504</td>\n",
       "      <td>...</td>\n",
       "      <td>29.40</td>\n",
       "      <td>32.70</td>\n",
       "      <td>34.70</td>\n",
       "      <td>33.70</td>\n",
       "      <td>34.00</td>\n",
       "      <td>36.10</td>\n",
       "      <td>35.20</td>\n",
       "      <td>33.90</td>\n",
       "      <td>34.50</td>\n",
       "      <td>34.20</td>\n",
       "    </tr>\n",
       "  </tbody>\n",
       "</table>\n",
       "<p>8 rows × 218 columns</p>\n",
       "</div>"
      ],
      "text/plain": [
       "                country    region        sub-region       1800       1801  \\\n",
       "1             Argentina  Americas     South America   2.138937   2.138937   \n",
       "8                Brazil  Americas     South America   0.818841   0.818841   \n",
       "10               Canada  Americas  Northern America   0.005680   0.005610   \n",
       "11                Chile  Americas     South America   1.823042   1.823042   \n",
       "15              Ecuador  Americas     South America   0.988042   0.988042   \n",
       "30               Mexico  Americas   Central America   2.152221   2.152221   \n",
       "35                 Peru  Americas     South America   0.821087   0.821087   \n",
       "45  Trinidad and Tobago  Americas         Caribbean  12.466504  12.466504   \n",
       "\n",
       "         1802       1803       1804       1805       1806  ...     2005  \\\n",
       "1    2.138937   2.138937   2.138937   2.138937   2.138937  ...     4.14   \n",
       "8    0.818841   0.818841   0.818841   0.818841   0.818841  ...     1.86   \n",
       "10   0.005550   0.005480   0.005420   0.005360   0.005290  ...    17.30   \n",
       "11   1.823042   1.823042   1.823042   1.823042   1.823042  ...     3.83   \n",
       "15   0.988042   0.988042   0.988042   0.988042   0.988042  ...     2.20   \n",
       "30   2.152221   2.152221   2.152221   2.152221   2.152221  ...     4.30   \n",
       "35   0.821087   0.821087   0.821087   0.821087   0.821087  ...     1.34   \n",
       "45  12.466504  12.466504  12.466504  12.466504  12.466504  ...    29.40   \n",
       "\n",
       "     2006   2007   2008   2009   2010   2011   2012   2013   2014  \n",
       "1    4.43   4.38   4.68   4.41   4.56   4.60   4.57   4.46   4.75  \n",
       "8    1.84   1.90   2.01   1.88   2.13   2.21   2.34   2.49   2.59  \n",
       "10  16.70  16.80  16.80  15.90  15.60  15.60  14.80  14.70  15.10  \n",
       "11   3.97   4.34   4.31   3.97   4.25   4.62   4.68   4.77   4.69  \n",
       "15   2.07   2.24   2.34   2.46   2.44   2.54   2.47   2.62   2.76  \n",
       "30   4.35   4.30   4.34   4.12   3.96   4.07   4.11   4.00   3.87  \n",
       "35   1.25   1.52   1.43   1.78   1.96   1.67   1.83   1.87   1.99  \n",
       "45  32.70  34.70  33.70  34.00  36.10  35.20  33.90  34.50  34.20  \n",
       "\n",
       "[8 rows x 218 columns]"
      ]
     },
     "execution_count": 126,
     "metadata": {},
     "output_type": "execute_result"
    }
   ],
   "source": [
    "co2_per_person[co2_per_person['region']=='Americas']"
   ]
  },
  {
   "cell_type": "code",
   "execution_count": 127,
   "metadata": {},
   "outputs": [
    {
     "data": {
      "text/plain": [
       "6.263647058823529"
      ]
     },
     "execution_count": 127,
     "metadata": {},
     "output_type": "execute_result"
    }
   ],
   "source": [
    "co2_per_person.loc[:,'2014'].mean()"
   ]
  },
  {
   "cell_type": "markdown",
   "metadata": {},
   "source": [
    "get the countries with the above average $co_2$ per person"
   ]
  },
  {
   "cell_type": "code",
   "execution_count": 128,
   "metadata": {
    "collapsed": true,
    "scrolled": false
   },
   "outputs": [],
   "source": [
    "Co2_above_average=co2_per_person[['country','region','2014']][co2_per_person['2014']>=6]"
   ]
  },
  {
   "cell_type": "code",
   "execution_count": 129,
   "metadata": {},
   "outputs": [
    {
     "data": {
      "text/html": [
       "<div>\n",
       "<style scoped>\n",
       "    .dataframe tbody tr th:only-of-type {\n",
       "        vertical-align: middle;\n",
       "    }\n",
       "\n",
       "    .dataframe tbody tr th {\n",
       "        vertical-align: top;\n",
       "    }\n",
       "\n",
       "    .dataframe thead th {\n",
       "        text-align: right;\n",
       "    }\n",
       "</style>\n",
       "<table border=\"1\" class=\"dataframe\">\n",
       "  <thead>\n",
       "    <tr style=\"text-align: right;\">\n",
       "      <th></th>\n",
       "      <th></th>\n",
       "      <th>2014</th>\n",
       "    </tr>\n",
       "    <tr>\n",
       "      <th>region</th>\n",
       "      <th>country</th>\n",
       "      <th></th>\n",
       "    </tr>\n",
       "  </thead>\n",
       "  <tbody>\n",
       "    <tr>\n",
       "      <th>Africa</th>\n",
       "      <th>South Africa</th>\n",
       "      <td>8.98</td>\n",
       "    </tr>\n",
       "    <tr>\n",
       "      <th rowspan=\"2\" valign=\"top\">Americas</th>\n",
       "      <th>Canada</th>\n",
       "      <td>15.10</td>\n",
       "    </tr>\n",
       "    <tr>\n",
       "      <th>Trinidad and Tobago</th>\n",
       "      <td>34.20</td>\n",
       "    </tr>\n",
       "    <tr>\n",
       "      <th rowspan=\"4\" valign=\"top\">Asia</th>\n",
       "      <th>China</th>\n",
       "      <td>7.40</td>\n",
       "    </tr>\n",
       "    <tr>\n",
       "      <th>Japan</th>\n",
       "      <td>9.47</td>\n",
       "    </tr>\n",
       "    <tr>\n",
       "      <th>Kazakhstan</th>\n",
       "      <td>14.20</td>\n",
       "    </tr>\n",
       "    <tr>\n",
       "      <th>Turkmenistan</th>\n",
       "      <td>12.50</td>\n",
       "    </tr>\n",
       "    <tr>\n",
       "      <th rowspan=\"10\" valign=\"top\">Europe</th>\n",
       "      <th>Austria</th>\n",
       "      <td>6.80</td>\n",
       "    </tr>\n",
       "    <tr>\n",
       "      <th>Belarus</th>\n",
       "      <td>6.69</td>\n",
       "    </tr>\n",
       "    <tr>\n",
       "      <th>Belgium</th>\n",
       "      <td>8.32</td>\n",
       "    </tr>\n",
       "    <tr>\n",
       "      <th>Czech Republic</th>\n",
       "      <td>9.10</td>\n",
       "    </tr>\n",
       "    <tr>\n",
       "      <th>Finland</th>\n",
       "      <td>8.66</td>\n",
       "    </tr>\n",
       "    <tr>\n",
       "      <th>Germany</th>\n",
       "      <td>8.83</td>\n",
       "    </tr>\n",
       "    <tr>\n",
       "      <th>Ireland</th>\n",
       "      <td>7.27</td>\n",
       "    </tr>\n",
       "    <tr>\n",
       "      <th>Netherlands</th>\n",
       "      <td>9.91</td>\n",
       "    </tr>\n",
       "    <tr>\n",
       "      <th>Norway</th>\n",
       "      <td>9.27</td>\n",
       "    </tr>\n",
       "    <tr>\n",
       "      <th>Poland</th>\n",
       "      <td>7.46</td>\n",
       "    </tr>\n",
       "    <tr>\n",
       "      <th rowspan=\"2\" valign=\"top\">Oceania</th>\n",
       "      <th>Australia</th>\n",
       "      <td>15.40</td>\n",
       "    </tr>\n",
       "    <tr>\n",
       "      <th>New Zealand</th>\n",
       "      <td>7.59</td>\n",
       "    </tr>\n",
       "  </tbody>\n",
       "</table>\n",
       "</div>"
      ],
      "text/plain": [
       "                               2014\n",
       "region   country                   \n",
       "Africa   South Africa          8.98\n",
       "Americas Canada               15.10\n",
       "         Trinidad and Tobago  34.20\n",
       "Asia     China                 7.40\n",
       "         Japan                 9.47\n",
       "         Kazakhstan           14.20\n",
       "         Turkmenistan         12.50\n",
       "Europe   Austria               6.80\n",
       "         Belarus               6.69\n",
       "         Belgium               8.32\n",
       "         Czech Republic        9.10\n",
       "         Finland               8.66\n",
       "         Germany               8.83\n",
       "         Ireland               7.27\n",
       "         Netherlands           9.91\n",
       "         Norway                9.27\n",
       "         Poland                7.46\n",
       "Oceania  Australia            15.40\n",
       "         New Zealand           7.59"
      ]
     },
     "execution_count": 129,
     "metadata": {},
     "output_type": "execute_result"
    }
   ],
   "source": [
    "Co2_above_average.groupby(['region','country']).mean()"
   ]
  },
  {
   "cell_type": "code",
   "execution_count": 130,
   "metadata": {},
   "outputs": [
    {
     "data": {
      "text/html": [
       "<div>\n",
       "<style scoped>\n",
       "    .dataframe tbody tr th:only-of-type {\n",
       "        vertical-align: middle;\n",
       "    }\n",
       "\n",
       "    .dataframe tbody tr th {\n",
       "        vertical-align: top;\n",
       "    }\n",
       "\n",
       "    .dataframe thead th {\n",
       "        text-align: right;\n",
       "    }\n",
       "</style>\n",
       "<table border=\"1\" class=\"dataframe\">\n",
       "  <thead>\n",
       "    <tr style=\"text-align: right;\">\n",
       "      <th></th>\n",
       "      <th>country</th>\n",
       "      <th>2014</th>\n",
       "    </tr>\n",
       "    <tr>\n",
       "      <th>region</th>\n",
       "      <th></th>\n",
       "      <th></th>\n",
       "    </tr>\n",
       "  </thead>\n",
       "  <tbody>\n",
       "    <tr>\n",
       "      <th>Africa</th>\n",
       "      <td>1</td>\n",
       "      <td>1</td>\n",
       "    </tr>\n",
       "    <tr>\n",
       "      <th>Americas</th>\n",
       "      <td>2</td>\n",
       "      <td>2</td>\n",
       "    </tr>\n",
       "    <tr>\n",
       "      <th>Asia</th>\n",
       "      <td>4</td>\n",
       "      <td>4</td>\n",
       "    </tr>\n",
       "    <tr>\n",
       "      <th>Europe</th>\n",
       "      <td>10</td>\n",
       "      <td>10</td>\n",
       "    </tr>\n",
       "    <tr>\n",
       "      <th>Oceania</th>\n",
       "      <td>2</td>\n",
       "      <td>2</td>\n",
       "    </tr>\n",
       "  </tbody>\n",
       "</table>\n",
       "</div>"
      ],
      "text/plain": [
       "          country  2014\n",
       "region                 \n",
       "Africa          1     1\n",
       "Americas        2     2\n",
       "Asia            4     4\n",
       "Europe         10    10\n",
       "Oceania         2     2"
      ]
     },
     "execution_count": 130,
     "metadata": {},
     "output_type": "execute_result"
    }
   ],
   "source": [
    "Co2_above_average.groupby('region').count()"
   ]
  },
  {
   "cell_type": "markdown",
   "metadata": {},
   "source": [
    "The above boxplot and jitterplot shows us that Oceania region has emitted more $co_2$ per person on average, however looking at the data more closely shows us that oceania has only 2 countries in our dataset, meaning the mean value of Oceania isn't affected by any outliers. However Trididad and Tobago on average emitts the most $co_2$ per person, and Europe has the most number of countries which emmited above average $co_2$ per person in 2014."
   ]
  },
  {
   "cell_type": "markdown",
   "metadata": {},
   "source": [
    "#### Lets see how the other variables fair with respect to income per capita and how the variables correlates with each other."
   ]
  },
  {
   "cell_type": "code",
   "execution_count": 131,
   "metadata": {
    "collapsed": true,
    "scrolled": true
   },
   "outputs": [],
   "source": [
    "plt_df=df_combined.groupby('year', as_index=False).mean()"
   ]
  },
  {
   "cell_type": "code",
   "execution_count": 132,
   "metadata": {},
   "outputs": [
    {
     "data": {
      "text/html": [
       "<div>\n",
       "<style scoped>\n",
       "    .dataframe tbody tr th:only-of-type {\n",
       "        vertical-align: middle;\n",
       "    }\n",
       "\n",
       "    .dataframe tbody tr th {\n",
       "        vertical-align: top;\n",
       "    }\n",
       "\n",
       "    .dataframe thead th {\n",
       "        text-align: right;\n",
       "    }\n",
       "</style>\n",
       "<table border=\"1\" class=\"dataframe\">\n",
       "  <thead>\n",
       "    <tr style=\"text-align: right;\">\n",
       "      <th></th>\n",
       "      <th>year</th>\n",
       "      <th>income</th>\n",
       "      <th>hdi</th>\n",
       "      <th>co2_per_person</th>\n",
       "      <th>Child_mortality</th>\n",
       "      <th>Life_expectancy</th>\n",
       "      <th>self_employed</th>\n",
       "    </tr>\n",
       "  </thead>\n",
       "  <tbody>\n",
       "    <tr>\n",
       "      <th>year</th>\n",
       "      <td>1.000000</td>\n",
       "      <td>0.982734</td>\n",
       "      <td>0.998130</td>\n",
       "      <td>0.386640</td>\n",
       "      <td>-0.998992</td>\n",
       "      <td>0.986690</td>\n",
       "      <td>-0.933290</td>\n",
       "    </tr>\n",
       "    <tr>\n",
       "      <th>income</th>\n",
       "      <td>0.982734</td>\n",
       "      <td>1.000000</td>\n",
       "      <td>0.986137</td>\n",
       "      <td>0.531927</td>\n",
       "      <td>-0.987536</td>\n",
       "      <td>0.963532</td>\n",
       "      <td>-0.905847</td>\n",
       "    </tr>\n",
       "    <tr>\n",
       "      <th>hdi</th>\n",
       "      <td>0.998130</td>\n",
       "      <td>0.986137</td>\n",
       "      <td>1.000000</td>\n",
       "      <td>0.416972</td>\n",
       "      <td>-0.997071</td>\n",
       "      <td>0.991510</td>\n",
       "      <td>-0.946061</td>\n",
       "    </tr>\n",
       "    <tr>\n",
       "      <th>co2_per_person</th>\n",
       "      <td>0.386640</td>\n",
       "      <td>0.531927</td>\n",
       "      <td>0.416972</td>\n",
       "      <td>1.000000</td>\n",
       "      <td>-0.414582</td>\n",
       "      <td>0.364573</td>\n",
       "      <td>-0.333499</td>\n",
       "    </tr>\n",
       "    <tr>\n",
       "      <th>Child_mortality</th>\n",
       "      <td>-0.998992</td>\n",
       "      <td>-0.987536</td>\n",
       "      <td>-0.997071</td>\n",
       "      <td>-0.414582</td>\n",
       "      <td>1.000000</td>\n",
       "      <td>-0.981327</td>\n",
       "      <td>0.924261</td>\n",
       "    </tr>\n",
       "    <tr>\n",
       "      <th>Life_expectancy</th>\n",
       "      <td>0.986690</td>\n",
       "      <td>0.963532</td>\n",
       "      <td>0.991510</td>\n",
       "      <td>0.364573</td>\n",
       "      <td>-0.981327</td>\n",
       "      <td>1.000000</td>\n",
       "      <td>-0.970639</td>\n",
       "    </tr>\n",
       "    <tr>\n",
       "      <th>self_employed</th>\n",
       "      <td>-0.933290</td>\n",
       "      <td>-0.905847</td>\n",
       "      <td>-0.946061</td>\n",
       "      <td>-0.333499</td>\n",
       "      <td>0.924261</td>\n",
       "      <td>-0.970639</td>\n",
       "      <td>1.000000</td>\n",
       "    </tr>\n",
       "  </tbody>\n",
       "</table>\n",
       "</div>"
      ],
      "text/plain": [
       "                     year    income       hdi  co2_per_person  \\\n",
       "year             1.000000  0.982734  0.998130        0.386640   \n",
       "income           0.982734  1.000000  0.986137        0.531927   \n",
       "hdi              0.998130  0.986137  1.000000        0.416972   \n",
       "co2_per_person   0.386640  0.531927  0.416972        1.000000   \n",
       "Child_mortality -0.998992 -0.987536 -0.997071       -0.414582   \n",
       "Life_expectancy  0.986690  0.963532  0.991510        0.364573   \n",
       "self_employed   -0.933290 -0.905847 -0.946061       -0.333499   \n",
       "\n",
       "                 Child_mortality  Life_expectancy  self_employed  \n",
       "year                   -0.998992         0.986690      -0.933290  \n",
       "income                 -0.987536         0.963532      -0.905847  \n",
       "hdi                    -0.997071         0.991510      -0.946061  \n",
       "co2_per_person         -0.414582         0.364573      -0.333499  \n",
       "Child_mortality         1.000000        -0.981327       0.924261  \n",
       "Life_expectancy        -0.981327         1.000000      -0.970639  \n",
       "self_employed           0.924261        -0.970639       1.000000  "
      ]
     },
     "execution_count": 132,
     "metadata": {},
     "output_type": "execute_result"
    }
   ],
   "source": [
    "plt_df.corr()"
   ]
  },
  {
   "cell_type": "markdown",
   "metadata": {},
   "source": [
    "We can see that income per capita corrolates positively and strongly with human development index(hdi). HDI is a statistic that is composed of Education,Income and life Expectancy, thus we expect it to correlate strongly with income per capita since it(income) is a variable of HDI.\n",
    "\n",
    "Lets visualise some of these viriations using a scatter plot with regression line."
   ]
  },
  {
   "cell_type": "code",
   "execution_count": 133,
   "metadata": {},
   "outputs": [
    {
     "data": {
      "image/png": "[encoded data removed]",
      "text/plain": [
       "<matplotlib.figure.Figure at 0x114f5dda0>"
      ]
     },
     "metadata": {},
     "output_type": "display_data"
    }
   ],
   "source": [
    "lm=sns.lmplot(x='income',y='self_employed',data=plt_df,fit_reg=True)\n",
    "fig=lm.fig\n",
    "fig.subptitle=('Scatter Plot with Regression: Self Employed VS Income')"
   ]
  },
  {
   "cell_type": "code",
   "execution_count": 134,
   "metadata": {},
   "outputs": [
    {
     "data": {
      "text/plain": [
       "<matplotlib.text.Text at 0x1149d07f0>"
      ]
     },
     "execution_count": 134,
     "metadata": {},
     "output_type": "execute_result"
    },
    {
     "data": {
      "image/png": "[encoded data removed]",
      "text/plain": [
       "<matplotlib.figure.Figure at 0x114f9c208>"
      ]
     },
     "metadata": {},
     "output_type": "display_data"
    }
   ],
   "source": [
    "lm=sns.lmplot(y='co2_per_person',x='income',data=plt_df,fit_reg=True)\n",
    "fig=lm.fig\n",
    "fig.suptitle('Scatter plot with Regression: Co2 Per Person VS Income Per Capita')"
   ]
  },
  {
   "cell_type": "code",
   "execution_count": 135,
   "metadata": {
    "scrolled": false
   },
   "outputs": [
    {
     "data": {
      "text/plain": [
       "<matplotlib.text.Text at 0x11978f400>"
      ]
     },
     "execution_count": 135,
     "metadata": {},
     "output_type": "execute_result"
    },
    {
     "data": {
      "image/png": "[encoded data removed]",
      "text/plain": [
       "<matplotlib.figure.Figure at 0x119787550>"
      ]
     },
     "metadata": {},
     "output_type": "display_data"
    }
   ],
   "source": [
    "lm=sns.lmplot(x='income',y='Child_mortality',fit_reg=True,data=plt_df)\n",
    "fig=lm.fig\n",
    "fig.suptitle('Scatter plot with Regression: Hdi VS Income per Capita')\n"
   ]
  },
  {
   "cell_type": "code",
   "execution_count": 136,
   "metadata": {},
   "outputs": [
    {
     "data": {
      "text/plain": [
       "<matplotlib.legend.Legend at 0x114cb0f28>"
      ]
     },
     "execution_count": 136,
     "metadata": {},
     "output_type": "execute_result"
    },
    {
     "data": {
      "image/png": "[encoded data removed]",
      "text/plain": [
       "<matplotlib.figure.Figure at 0x1196ad470>"
      ]
     },
     "metadata": {},
     "output_type": "display_data"
    }
   ],
   "source": [
    "plt2.scatter(plt_df['income'],plt_df['Child_mortality'],label='Child Mortality')\n",
    "plt2.scatter(plt_df['income'],plt_df['hdi'],label='hdi')\n",
    "plt2.scatter(plt_df['income'],plt_df['co2_per_person'],label='Co2 per Person')\n",
    "plt2.xlabel('Income Per Capita')\n",
    "plt2.ylabel('Hdi/Child Mortality/co2 per Person')\n",
    "plt2.legend()\n"
   ]
  },
  {
   "cell_type": "markdown",
   "metadata": {},
   "source": [
    "#### Change in child mortality by region"
   ]
  },
  {
   "cell_type": "code",
   "execution_count": 116,
   "metadata": {
    "scrolled": false
   },
   "outputs": [
    {
     "data": {
      "text/plain": [
       "<matplotlib.text.Text at 0x123b222b0>"
      ]
     },
     "execution_count": 116,
     "metadata": {},
     "output_type": "execute_result"
    },
    {
     "data": {
      "image/png": "[encoded data removed]",
      "text/plain": [
       "<matplotlib.figure.Figure at 0x11ec66b38>"
      ]
     },
     "metadata": {},
     "output_type": "display_data"
    }
   ],
   "source": [
    "ax=child_mortality.groupby('region').mean().T\n",
    "fig=plt2.figure(figsize=(8,6))\n",
    "plt2.plot(ax)\n",
    "plt2.xlabel('Year')\n",
    "plt2.ylabel('Child Mortality')\n",
    "plt2.legend(ax.columns)\n",
    "plt2.style.use('fivethirtyeight')\n",
    "fig.suptitle('Change in Child Mortality by region from 1800 to 2018')"
   ]
  },
  {
   "cell_type": "markdown",
   "metadata": {},
   "source": [
    "Child mortality appears to reduce as a country advances."
   ]
  },
  {
   "cell_type": "markdown",
   "metadata": {},
   "source": [
    "<a id='conclusions'></a>\n",
    "## Conclusions"
   ]
  },
  {
   "cell_type": "markdown",
   "metadata": {
    "collapsed": true
   },
   "source": [
    "From our first plot we observe that income per capita increased as the years went by, further investigations showed that as income per capita increased, life expectancy increased. This relationship is not linear and cannot be said to be causal.\n",
    "\n",
    "Further studies not captured in this analysis shows that the change in life expectancy occurs at different rates for different countries and is independent of changes in income for some countries, rather attributing some of the factors responsible for increase in life expectancy in countries, especially poorer ones, to education, better technology, vaccinations etc.\n",
    "\n",
    "One interesting thing about this analysis is the Jitterplot and boxplot on $co_2$ emission by region. At face value, it showed that Oceania had the highest emission values per person, but we looked closer, and realised that according to our dataset,in 2014, Europe had more countries combined emmiting more $CO_2$ per person above the average levels, and Trinidad and Tobago emitted the highest levels per person. Further analysis will need to be carried out before we can ascertain causality and directionality between $CO_2$ emission per person and Income per capita.  \n",
    " \n",
    "From the correlation table, as well as observing the Scatter plot, we saw that the variable \"Self employed\" has a strong negative correlation with income per capita, which implies that richer countries tend to have less entrepreneurs i.e people that are self employed. \n",
    "\n",
    "Child Mortality has a strong negative correlation with income per capita implying that richer countries lose less babies at child birth. Notice that although there is a strong correlation between the two variables, we aren't still implying causation because other lurknig variables may be the direct cause of this. i.e Countries with higher income per capita may have more medical personnel per 1000 patients, meaning such countries will be in a better position to effect safer child deliveries.\n",
    "\n",
    "From our last graph we can denote that for each of the five regions, child mortality is reducing. \n",
    "\n",
    "This analysis isn't full proof because of incomplete dataset. We had to drop some records which resulted in a dataset with reduced sample size, thereby reducing the statistical power of the analysis."
   ]
  },
  {
   "cell_type": "markdown",
   "metadata": {},
   "source": [
    "### Refrences\n",
    "<Ol>\n",
    "<li>https://www.researchgate.net/publication/321225902_GHG_Emissions_in_Trinidad_and_Tobago</li>\n",
    "<li>https://www.researchgate.net/publication/297750732_Life_Expectancy_In_Zimbabwe_An_Analysis_Of_Five_Decades</li>\n",
    "<li>https://en.wikipedia.org/wiki/Human_Development_Index</li>\n",
    "<li>https://www.theanalysisfactor.com/when-listwise-deletion-works/</li>\n",
    "<li>https://seaborn.pydata.org/generated/seaborn.stripplot.html</li>\n",
    "<li>https://en.wikipedia.org/wiki/Preston_curve</li>\n",
    "<li>https://hub.mybinder.org/user/bloomberg-bqplot-ttvdwo1x/notebooks/examples/Index.ipynb</li>\n",
    "</Ol>"
   ]
  }
 ],
 "metadata": {
  "kernelspec": {
   "display_name": "Python 3",
   "language": "python",
   "name": "python3"
  },
  "language_info": {
   "codemirror_mode": {
    "name": "ipython",
    "version": 3
   },
   "file_extension": ".py",
   "mimetype": "text/x-python",
   "name": "python",
   "nbconvert_exporter": "python",
   "pygments_lexer": "ipython3",
   "version": "3.6.7"
  }
 },
 "nbformat": 4,
 "nbformat_minor": 2
}
